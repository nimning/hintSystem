{
 "cells": [
  {
   "cell_type": "code",
   "execution_count": 54,
   "metadata": {
    "collapsed": false
   },
   "outputs": [
    {
     "name": "stdout",
     "output_type": "stream",
     "text": [
      "Overwriting C_week2_13_1.py\n"
     ]
    }
   ],
   "source": [
    "%%writefile C_week2_13_1.py\n",
    "'''\n",
    "For 2014, week2, problem 13, part 1.\n",
    "Give hints based on students' attempts\n",
    "'''\n",
    "from FindMatchingSubexpressions import find_matches \n",
    "import T_week2_13_1\n",
    "\n",
    "def C_week2_13_1(answer, attempt):\n",
    "    print 'attempt', attempt\n",
    "    final_pairs=find_matches(answer,attempt)\n",
    "    \n",
    "    #default hint\n",
    "    hint = T_week2_13_1.T_week2_13_1()\n",
    "    \n",
    "    #if nothing mathches, hint is set to the default hint\n",
    "    if len(final_pairs) == 0:\n",
    "        print \"nothing mathches\"\n",
    "        hint = T_week2_13_1.T_week2_13_1()\n",
    "    # Something is matched\n",
    "    else:\n",
    "        matchDict = {};\n",
    "        for node,value,ans_piece,attempt_piece in final_pairs:\n",
    "            matchDict[node] = [value, ans_piece, attempt_piece]\n",
    "        \n",
    "        #if the final value, 2^n which corresponds to the root node, is correct \n",
    "        if 'R' in matchDict:\n",
    "            ansPiece = matchDict['R'][1]\n",
    "            attPiece = matchDict['R'][2]\n",
    "            \n",
    "            #if expresssion is not equal, give the correct expression\n",
    "            if ansPiece != attPiece:\n",
    "                hint = 'Your answer {0} is correct, it could also be written as {1}'(attPiece, ansPiece)\n",
    "            # get everything correct\n",
    "            else:\n",
    "                hint = 'You get all correct! Great job!'\n",
    "        else:\n",
    "            # only have 2\n",
    "            if 'R.0' in matchDict:\n",
    "                attPiece = matchDict['R.0'][2]\n",
    "                hint = 'Your subexpression {0} is correct, however it is just the size of outcome space for flipping one coin'\n",
    "        \n",
    "    return hint;"
   ]
  },
  {
   "cell_type": "code",
   "execution_count": 55,
   "metadata": {
    "collapsed": false
   },
   "outputs": [
    {
     "name": "stdout",
     "output_type": "stream",
     "text": [
      "Overwriting T_week2_13_1.py\n"
     ]
    }
   ],
   "source": [
    "%%writefile T_week2_13_1.py\n",
    "'''\n",
    "For 2014, week2, problem 13, part 1.\n",
    "Give hints based on times of attempts\n",
    "'''\n",
    "\n",
    "def T_week2_13_1():\n",
    "    return 'What is size of outcome space for flip 1 coint? [_____]{2}'\n",
    "    "
   ]
  },
  {
   "cell_type": "code",
   "execution_count": 56,
   "metadata": {
    "collapsed": false
   },
   "outputs": [
    {
     "data": {
      "text/plain": [
       "'this is %d, but that is %d'"
      ]
     },
     "execution_count": 56,
     "metadata": {},
     "output_type": "execute_result"
    }
   ],
   "source": [
    "'this is %d, but that is %d'.format(10, 20)"
   ]
  },
  {
   "cell_type": "code",
   "execution_count": 57,
   "metadata": {
    "collapsed": false
   },
   "outputs": [],
   "source": [
    "from C_week2_13_1 import C_week2_13_1 "
   ]
  },
  {
   "cell_type": "code",
   "execution_count": 58,
   "metadata": {
    "collapsed": false
   },
   "outputs": [
    {
     "ename": "NameError",
     "evalue": "global name 'attempt' is not defined",
     "output_type": "error",
     "traceback": [
      "\u001b[0;31m---------------------------------------------------------------------------\u001b[0m",
      "\u001b[0;31mNameError\u001b[0m                                 Traceback (most recent call last)",
      "\u001b[0;32m<ipython-input-58-7fa2f1be1dd8>\u001b[0m in \u001b[0;36m<module>\u001b[0;34m()\u001b[0m\n\u001b[0;32m----> 1\u001b[0;31m \u001b[0mC_week2_13_1\u001b[0m\u001b[0;34m(\u001b[0m\u001b[0;34m'2^10'\u001b[0m\u001b[0;34m,\u001b[0m \u001b[0;34m'1024'\u001b[0m\u001b[0;34m)\u001b[0m\u001b[0;34m\u001b[0m\u001b[0m\n\u001b[0m",
      "\u001b[0;32m/Users/maningmn1987/Documents/Study_material/CSE103_TA/Webwork_AdaptiveHints/src/servers/rest_server/filter_lab/C_week2_13_1.py\u001b[0m in \u001b[0;36mC_week2_13_1\u001b[0;34m(answer, attemp)\u001b[0m\n\u001b[1;32m      7\u001b[0m \u001b[0;34m\u001b[0m\u001b[0m\n\u001b[1;32m      8\u001b[0m \u001b[0;32mdef\u001b[0m \u001b[0mC_week2_13_1\u001b[0m\u001b[0;34m(\u001b[0m\u001b[0manswer\u001b[0m\u001b[0;34m,\u001b[0m \u001b[0mattempt\u001b[0m\u001b[0;34m)\u001b[0m\u001b[0;34m:\u001b[0m\u001b[0;34m\u001b[0m\u001b[0m\n\u001b[0;32m----> 9\u001b[0;31m     \u001b[0;32mprint\u001b[0m \u001b[0;34m'attempt'\u001b[0m\u001b[0;34m,\u001b[0m \u001b[0mattempt\u001b[0m\u001b[0;34m\u001b[0m\u001b[0m\n\u001b[0m\u001b[1;32m     10\u001b[0m     \u001b[0mfinal_pairs\u001b[0m\u001b[0;34m=\u001b[0m\u001b[0mfind_matches\u001b[0m\u001b[0;34m(\u001b[0m\u001b[0manswer\u001b[0m\u001b[0;34m,\u001b[0m\u001b[0mattempt\u001b[0m\u001b[0;34m)\u001b[0m\u001b[0;34m\u001b[0m\u001b[0m\n\u001b[1;32m     11\u001b[0m \u001b[0;34m\u001b[0m\u001b[0m\n",
      "\u001b[0;31mNameError\u001b[0m: global name 'attempt' is not defined"
     ]
    }
   ],
   "source": [
    "C_week2_13_1('2^10', '1024')"
   ]
  },
  {
   "cell_type": "code",
   "execution_count": null,
   "metadata": {
    "collapsed": true
   },
   "outputs": [],
   "source": []
  }
 ],
 "metadata": {
  "kernelspec": {
   "display_name": "Python 2",
   "language": "python",
   "name": "python2"
  },
  "language_info": {
   "codemirror_mode": {
    "name": "ipython",
    "version": 2
   },
   "file_extension": ".py",
   "mimetype": "text/x-python",
   "name": "python",
   "nbconvert_exporter": "python",
   "pygments_lexer": "ipython2",
   "version": "2.7.10"
  }
 },
 "nbformat": 4,
 "nbformat_minor": 0
}
