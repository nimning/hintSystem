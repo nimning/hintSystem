{
 "cells": [
  {
   "cell_type": "code",
   "execution_count": 2,
   "metadata": {
    "collapsed": false
   },
   "outputs": [],
   "source": [
    "import sys\n",
    "from collections import deque\n",
    "from string import strip, replace\n",
    "import json\n",
    "from collections import Counter\n",
    "sys.path.append(\"../../../parsetrees/expr_parser/\")\n"
   ]
  },
  {
   "cell_type": "code",
   "execution_count": 4,
   "metadata": {
    "collapsed": false
   },
   "outputs": [
    {
     "name": "stdout",
     "output_type": "stream",
     "text": [
      "/Users/maningmn1987/Documents/Study_material/CSE103_TA/Webwork_AdaptiveHints/src/parsetrees/expr_parser\n"
     ]
    }
   ],
   "source": [
    "cd \"../../../parsetrees/expr_parser/\""
   ]
  },
  {
   "cell_type": "code",
   "execution_count": 5,
   "metadata": {
    "collapsed": false
   },
   "outputs": [
    {
     "name": "stdout",
     "output_type": "stream",
     "text": [
      "10.18.13.prob3.json                   example_struggle.csv\r\n",
      "AnswersByPartFromMySQL.ipynb          example_struggle.json\r\n",
      "BrowseAnswersInteractive.ipynb        \u001b[31mextract_answers.py\u001b[m\u001b[m\r\n",
      "ComputeEditDistances-Yoav.ipynb       k_medoids_clustering.py\r\n",
      "ComputeEditDistances.ipynb            parser.out\r\n",
      "Eval_parsed.py                        parsetab.py\r\n",
      "Eval_parsed.pyc                       parsetab.pyc\r\n",
      "EvaluateExpressions.ipynb             poker_cond2_1.pg.json\r\n",
      "GetAnswersByPart.ipynb                test\r\n",
      "GetAnswersByPartAll.ipynb             webwork_ipython_utils.py\r\n",
      "LoadingParsingEditDistance.ipynb      webwork_lexer.py\r\n",
      "Parsing Answers from API.ipynb        webwork_lexer.pyc\r\n",
      "Study Parsing And Edit Distance.ipynb webwork_parser.py\r\n",
      "Webwork XMLRPC.ipynb                  webwork_parser.py.bck\r\n",
      "__init__.py                           webwork_parser.pyc\r\n"
     ]
    }
   ],
   "source": [
    "!ls "
   ]
  },
  {
   "cell_type": "code",
   "execution_count": 6,
   "metadata": {
    "collapsed": false
   },
   "outputs": [
    {
     "name": "stdout",
     "output_type": "stream",
     "text": [
      "/Users/maningmn1987/Documents/Study_material/CSE103_TA/Webwork_AdaptiveHints/src/servers/rest_server/filter_lab\n"
     ]
    }
   ],
   "source": [
    "cd \"../../servers/rest_server/filter_lab\""
   ]
  },
  {
   "cell_type": "code",
   "execution_count": 7,
   "metadata": {
    "collapsed": true
   },
   "outputs": [],
   "source": [
    "from Eval_parsed import eval_parsed\n",
    "from webwork_parser import parse_webwork\n",
    "\n",
    "# Set up a logging object\n",
    "import logging\n",
    "\n",
    "logger = logging.getLogger(__name__)\n",
    "logger.setLevel(logging.WARNING)\n",
    "#logger.setLevel(logging.DEBUG)\n",
    "ch = logging.StreamHandler()\n",
    "\n",
    "# create formatter\n",
    "formatter = logging.Formatter('%(asctime)s - %(name)s - %(levelname)s - %(message)s')\n",
    "# add formatter to ch\n",
    "ch.setFormatter(formatter)\n",
    "\n",
    "# add ch to logger\n",
    "logger.addHandler(ch)\n",
    "\n",
    "\n"
   ]
  },
  {
   "cell_type": "code",
   "execution_count": 91,
   "metadata": {
    "collapsed": true
   },
   "outputs": [],
   "source": [
    "def flatten(tree,tag):\n",
    "    #attempt_parsed_eval [['/', 0.451171875, [0, 7], 'R'], ['X', 462.0, [0, 2], 'R.0'], [['^', 1024.0, [4, 7], 'R.1'], ['X', 2.0, [4, 4], 'R.1.0'], ['X', 10.0, [6, 7], 'R.1.1']]]\n",
    "    logger.debug('flattening: '+str(tree))\n",
    "    #print 'the tree to be flatten is ', tree\n",
    "    List=[]\n",
    "    Queue=deque([tree])\n",
    "    try:\n",
    "        while Queue:\n",
    "            current=Queue.popleft()\n",
    "            #print \"current is \", current\n",
    "            logger.debug('current='+str(current)+' Queue='+str(Queue))\n",
    "            if type(current)==list: \n",
    "                if type(current[0])==str:\n",
    "                    List.append([current[1],tag,current])\n",
    "                    #print \"currt list\", List\n",
    "                elif isinstance(current[0][0],basestring) and isinstance(current[0][1],(int, long, float, complex)) and type(current[0][2])==list:\n",
    "                    List.append([current[0][1],tag,current])\n",
    "                    #print \"currt list\", List\n",
    "                    Queue.extend(current[1:])\n",
    "                else:\n",
    "                    logger.error('parse error (is list): current=%s, tree=%s'%(str(current),str(tree)))\n",
    "                    return []\n",
    "            else:\n",
    "                logger.error('parse error (not list): current=%s, tree=%s'%(str(current),str(tree)))\n",
    "                return []\n",
    "    except Exception as error:\n",
    "        logger.exception(error)\n",
    "        logger.error('current='+str(current))\n",
    "        return []\n",
    "    List=sorted(List,key=lambda x: x[0])\n",
    "    #print 'List after sort', List\n",
    "    return List\n",
    "\n"
   ]
  },
  {
   "cell_type": "code",
   "execution_count": 92,
   "metadata": {
    "collapsed": true
   },
   "outputs": [],
   "source": [
    "def find_Hits(List,tol = 1+1e-6):\n",
    "    \"\"\" Given a combined list of subtrees from both attempt and answer,\n",
    "    sorted by value, find the matching pairs of trees\n",
    "    tol is the tolerance used to define which pairs of values match. \n",
    "    Needed because different expressions get different roundoff error\n",
    "    \"\"\"\n",
    "    Hits=[]\n",
    "    item1=List[0]\n",
    "    for item2 in List[1:]:\n",
    "        logger.debug(str(item1[:2])+str(item2[:2]))\n",
    "        ratio=item1[0]/item2[0]\n",
    "        if item1[1]!=item2[1] and ratio <tol and ratio>(1/tol):\n",
    "            if item1[1]=='c':\n",
    "                Hits.append((item1,item2))\n",
    "            elif item2[1]=='c':\n",
    "                Hits.append((item2,item1))\n",
    "            else:\n",
    "                logger.error(\"Error in find_Hits. Neither item labeled c\")\n",
    "        item1=item2\n",
    "    return Hits\n",
    "\n"
   ]
  },
  {
   "cell_type": "code",
   "execution_count": 93,
   "metadata": {
    "collapsed": true
   },
   "outputs": [],
   "source": [
    "#return the location of the evaluation\n",
    "def get_span(tree):\n",
    "    if tree[2][0]=='X':\n",
    "        return tree[2][2]\n",
    "    elif type(tree[2][0])==list:\n",
    "        return tree[2][0][2]\n",
    "    else:\n",
    "        logger.error('Error in get_span')\n",
    "        return None\n",
    "    \n"
   ]
  },
  {
   "cell_type": "code",
   "execution_count": 106,
   "metadata": {
    "collapsed": true
   },
   "outputs": [],
   "source": [
    "#each element in hints is\n",
    "#([2.0, 'c', ['X', 2.0, [18, 18], 'R.1.0']], [2.0, 't', ['X', 2.0, [4, 4], 'R.1.0']])\n",
    "\n",
    "#([462.0, 'c', [['/', 462.0, [1, 15], 'R.0'], [['!', 39916800, [1, 3], 'R.0.0'], ['X', 11.0, [1, 2], 'R.0.0.0']], [['*', 86400.0, [6, 14], 'R.0.1'], [['!', 720, [6, 7], 'R.0.1.0'], ['X', 6.0, [6, 6], 'R.0.1.0.0']], [['!', 120, [8, 14], 'R.0.1.1'], [['-', 5.0, [9, 12], 'R.0.1.1.0'], ['X', 11.0, [9, 10], 'R.0.1.1.0.0'], ['X', 6.0, [12, 12], 'R.0.1.1.0.1']]]]]], \n",
    "#[462.0, 't', ['X', 462.0, [0, 2], 'R.0']])"
   ]
  },
  {
   "cell_type": "code",
   "execution_count": 124,
   "metadata": {
    "collapsed": true
   },
   "outputs": [],
   "source": [
    "\n",
    "def find_dominating_hits(Hits,answer,attempt):\n",
    "    for i in range(len(Hits)):\n",
    "        for j in range(len(Hits)):\n",
    "            if i==j:\n",
    "                continue\n",
    "            print 'i, j', i, j\n",
    "            print 'Hists[i][0]', Hits[i][0]\n",
    "            span1=get_span(Hits[i][0])\n",
    "            print 'span1', span1\n",
    "            print 'Hists[j][0]', Hits[j][0]\n",
    "            span2=get_span(Hits[j][0])\n",
    "            print 'span2', span2\n",
    "            if span1[0]<=span2[0] and span1[1]>=span2[1]:\n",
    "                logger.debug(str(span1)+' dominates '+str(span2))\n",
    "                Hits[j][0][1]='dc'\n",
    "    print\n",
    "    print 'each element after dominiate Hint'\n",
    "    for ele in Hits:\n",
    "        print ele;\n",
    "        print\n",
    "    print\n",
    "    \n",
    "    final_matches=[]\n",
    "    for hit in Hits:\n",
    "        if hit[0][1]=='c':\n",
    "            value=hit[0][0]\n",
    "            span_c=get_span(hit[0])\n",
    "            span_a=get_span(hit[1])\n",
    "            logger.debug('answer:'+str(answer)+str(span_c))\n",
    "            logger.debug('attempt:'+str(attempt)+str(span_a))\n",
    "            answer_part=answer[span_c[0]:span_c[1]+1]\n",
    "            attempt_part = attempt[span_a[0]:span_a[1]+1]\n",
    "            logger.debug('answer part'+str(answer_part))\n",
    "            logger.debug('attempt part'+str(attempt_part))\n",
    "            logger.debug('hit part='+str(hit[0][2][0]))\n",
    "            if hit[0][2][0]=='X':\n",
    "                node=hit[0][2][3]\n",
    "            else:\n",
    "                node=hit[0][2][0][3]\n",
    "            final_matches.append((node,value,answer_part,attempt_part))\n",
    "    return final_matches"
   ]
  },
  {
   "cell_type": "code",
   "execution_count": 125,
   "metadata": {
    "collapsed": true
   },
   "outputs": [],
   "source": [
    "def find_matches(answer,attempt):\n",
    "\n",
    "    logger.debug('find_matches recieved answer='+str(answer)+' attempt='+str(attempt))\n",
    "    attempt_parsed=parse_webwork(attempt)\n",
    "    print 'attempt_parsed', attempt_parsed\n",
    "    print\n",
    "    logger.debug('calling eval_parsed on on'+str(attempt_parsed))\n",
    "    attempt_tree=eval_parsed(attempt_parsed)\n",
    "    print 'attempt_parsed_eval', attempt_tree\n",
    "    logger.debug('calling flatten on'+str(attempt_tree))\n",
    "    attempt_list=flatten(attempt_tree,'t')\n",
    "    print\n",
    "    print 'each element in attempt_parsed_eval is '\n",
    "    for ele in attempt_tree:\n",
    "        print ele\n",
    "    print\n",
    "    print 'attempt_parsed_eval_flat', attempt_list\n",
    "    logger.debug( 'attempt list:\\n'+str(attempt_list))\n",
    "    print\n",
    "    print 'each element in attempt_parsed_eval_flat is '\n",
    "    for ele in attempt_list:\n",
    "        print ele\n",
    "    print\n",
    "    #print 'attempt_parsed_eval_flat', attempt_list\n",
    "    print 'the value in attempt_parsed_eval_flat is '\n",
    "    for ele in attempt_list:\n",
    "        print ele[0]\n",
    "    \n",
    "    print\n",
    "    answer_parsed=parse_webwork(answer)\n",
    "    print 'answer_parsed', answer_parsed\n",
    "    logger.debug('calling eval_parsed on on'+str(answer_parsed))\n",
    "    answer_tree=eval_parsed(answer_parsed)\n",
    "    print 'answer_parsed_eval', answer_tree\n",
    "    print\n",
    "    print 'each element in answer_parsed_eval is '\n",
    "    for ele in answer_tree:\n",
    "        print ele\n",
    "    print\n",
    "    logger.debug('calling flatten on'+str(answer_tree))\n",
    "    answer_list=flatten(answer_tree,'c')\n",
    "    print 'answer_parsed_eval_flat', answer_list\n",
    "    print\n",
    "    print 'each element in answer_parsed_eval_flat is '\n",
    "    for ele in answer_list:\n",
    "        print ele\n",
    "    print\n",
    "    logger.debug('answer list\\n'+str(answer_list))\n",
    "    print 'the value in answer_parsed_eval_flat is '\n",
    "    for ele in answer_list:\n",
    "        print ele[0]\n",
    "    \n",
    "    print\n",
    "    combined_list=sorted(answer_list+attempt_list,key=lambda x: x[0])\n",
    "    print 'combined_list', combined_list\n",
    "    logger.debug('combined list\\n'+str(combined_list))\n",
    "    \n",
    "    print\n",
    "    Hits=find_Hits(combined_list)\n",
    "    print 'Hitsssssss:', Hits\n",
    "    logger.debug('Hits:\\n'+str(Hits))\n",
    "    print\n",
    "    print \"each element in hints is\"\n",
    "    for ele in Hits:\n",
    "        print ele\n",
    "        print\n",
    "    \n",
    "    print\n",
    "    final_matches=find_dominating_hits(Hits,answer,attempt)\n",
    "    print 'final_matches:', final_matches\n",
    "    \n",
    "    return final_matches"
   ]
  },
  {
   "cell_type": "code",
   "execution_count": 151,
   "metadata": {
    "collapsed": false,
    "scrolled": false
   },
   "outputs": [
    {
     "name": "stdout",
     "output_type": "stream",
     "text": [
      "Week2 Problem13 Part1\n",
      "|2^$coins|\n",
      "params:  [u'2', 2, [2.0], u'2^$coins', [[u'^', [0, 2]], 2, u'$coins'], [[u'^', 2048.0, [0, 2]], [2.0], [11.0]], {u'$coins': 11.0}]\n",
      "parans[0]:  2\n",
      "ATTEMPT (AFTER JOIN):  2\n",
      "variables:  {u'$coins': 11.0}\n",
      "Answer:  2^$coins\n",
      "name: $coins  val: 11.0\n",
      "ANSWER (after replace) 2^11\n",
      "\n",
      "attempt= 2 answer= 2^11\n",
      "find_matches from .json\n",
      "attempt_parsed [['X', [0, 0]], 2]\n",
      "\n",
      "attempt_parsed_eval ['X', 2.0, [0, 0], 'R']\n",
      "\n",
      "each element in attempt_parsed_eval is \n",
      "X\n",
      "2.0\n",
      "[0, 0]\n",
      "R\n",
      "\n",
      "attempt_parsed_eval_flat [[2.0, 't', ['X', 2.0, [0, 0], 'R']]]\n",
      "\n",
      "each element in attempt_parsed_eval_flat is \n",
      "[2.0, 't', ['X', 2.0, [0, 0], 'R']]\n",
      "\n",
      "the value in attempt_parsed_eval_flat is \n",
      "2.0\n",
      "\n",
      "answer_parsed [['^', [0, 3]], [['X', [0, 0]], 2], [['X', [2, 3]], 11]]\n",
      "answer_parsed_eval [['^', 2048.0, [0, 3], 'R'], ['X', 2.0, [0, 0], 'R.0'], ['X', 11.0, [2, 3], 'R.1']]\n",
      "\n",
      "each element in answer_parsed_eval is \n",
      "['^', 2048.0, [0, 3], 'R']\n",
      "['X', 2.0, [0, 0], 'R.0']\n",
      "['X', 11.0, [2, 3], 'R.1']\n",
      "\n",
      "answer_parsed_eval_flat [[2.0, 'c', ['X', 2.0, [0, 0], 'R.0']], [11.0, 'c', ['X', 11.0, [2, 3], 'R.1']], [2048.0, 'c', [['^', 2048.0, [0, 3], 'R'], ['X', 2.0, [0, 0], 'R.0'], ['X', 11.0, [2, 3], 'R.1']]]]\n",
      "\n",
      "each element in answer_parsed_eval_flat is \n",
      "[2.0, 'c', ['X', 2.0, [0, 0], 'R.0']]\n",
      "[11.0, 'c', ['X', 11.0, [2, 3], 'R.1']]\n",
      "[2048.0, 'c', [['^', 2048.0, [0, 3], 'R'], ['X', 2.0, [0, 0], 'R.0'], ['X', 11.0, [2, 3], 'R.1']]]\n",
      "\n",
      "the value in answer_parsed_eval_flat is \n",
      "2.0\n",
      "11.0\n",
      "2048.0\n",
      "\n",
      "combined_list [[2.0, 'c', ['X', 2.0, [0, 0], 'R.0']], [2.0, 't', ['X', 2.0, [0, 0], 'R']], [11.0, 'c', ['X', 11.0, [2, 3], 'R.1']], [2048.0, 'c', [['^', 2048.0, [0, 3], 'R'], ['X', 2.0, [0, 0], 'R.0'], ['X', 11.0, [2, 3], 'R.1']]]]\n",
      "\n",
      "Hitsssssss: [([2.0, 'c', ['X', 2.0, [0, 0], 'R.0']], [2.0, 't', ['X', 2.0, [0, 0], 'R']])]\n",
      "\n",
      "each element in hints is\n",
      "([2.0, 'c', ['X', 2.0, [0, 0], 'R.0']], [2.0, 't', ['X', 2.0, [0, 0], 'R']])\n",
      "\n",
      "\n",
      "\n",
      "each element after dominiate Hint\n",
      "([2.0, 'c', ['X', 2.0, [0, 0], 'R.0']], [2.0, 't', ['X', 2.0, [0, 0], 'R']])\n",
      "\n",
      "\n",
      "final_matches: [('R.0', 2.0, u'2', u'2')]\n",
      "params:  [u'2^11', [[u'^', [0, 2]], 2, 11], [[u'^', 2048.0, [0, 2]], [2.0], [11.0]], u'2^$coins', [[u'^', [0, 2]], 2, u'$coins'], [[u'^', 2048.0, [0, 2]], [2.0], [11.0]], {u'$coins': 11.0}]\n",
      "parans[0]:  2^11\n",
      "ATTEMPT (AFTER JOIN):  2^11\n",
      "variables:  {u'$coins': 11.0}\n",
      "Answer:  2^$coins\n",
      "name: $coins  val: 11.0\n",
      "ANSWER (after replace) 2^11\n",
      "\n",
      "attempt= 2^11 answer= 2^11\n",
      "find_matches from .json\n",
      "attempt_parsed [['^', [0, 3]], [['X', [0, 0]], 2], [['X', [2, 3]], 11]]\n",
      "\n",
      "attempt_parsed_eval [['^', 2048.0, [0, 3], 'R'], ['X', 2.0, [0, 0], 'R.0'], ['X', 11.0, [2, 3], 'R.1']]\n",
      "\n",
      "each element in attempt_parsed_eval is \n",
      "['^', 2048.0, [0, 3], 'R']\n",
      "['X', 2.0, [0, 0], 'R.0']\n",
      "['X', 11.0, [2, 3], 'R.1']\n",
      "\n",
      "attempt_parsed_eval_flat [[2.0, 't', ['X', 2.0, [0, 0], 'R.0']], [11.0, 't', ['X', 11.0, [2, 3], 'R.1']], [2048.0, 't', [['^', 2048.0, [0, 3], 'R'], ['X', 2.0, [0, 0], 'R.0'], ['X', 11.0, [2, 3], 'R.1']]]]\n",
      "\n",
      "each element in attempt_parsed_eval_flat is \n",
      "[2.0, 't', ['X', 2.0, [0, 0], 'R.0']]\n",
      "[11.0, 't', ['X', 11.0, [2, 3], 'R.1']]\n",
      "[2048.0, 't', [['^', 2048.0, [0, 3], 'R'], ['X', 2.0, [0, 0], 'R.0'], ['X', 11.0, [2, 3], 'R.1']]]\n",
      "\n",
      "the value in attempt_parsed_eval_flat is \n",
      "2.0\n",
      "11.0\n",
      "2048.0\n",
      "\n",
      "answer_parsed [['^', [0, 3]], [['X', [0, 0]], 2], [['X', [2, 3]], 11]]\n",
      "answer_parsed_eval [['^', 2048.0, [0, 3], 'R'], ['X', 2.0, [0, 0], 'R.0'], ['X', 11.0, [2, 3], 'R.1']]\n",
      "\n",
      "each element in answer_parsed_eval is \n",
      "['^', 2048.0, [0, 3], 'R']\n",
      "['X', 2.0, [0, 0], 'R.0']\n",
      "['X', 11.0, [2, 3], 'R.1']\n",
      "\n",
      "answer_parsed_eval_flat [[2.0, 'c', ['X', 2.0, [0, 0], 'R.0']], [11.0, 'c', ['X', 11.0, [2, 3], 'R.1']], [2048.0, 'c', [['^', 2048.0, [0, 3], 'R'], ['X', 2.0, [0, 0], 'R.0'], ['X', 11.0, [2, 3], 'R.1']]]]\n",
      "\n",
      "each element in answer_parsed_eval_flat is \n",
      "[2.0, 'c', ['X', 2.0, [0, 0], 'R.0']]\n",
      "[11.0, 'c', ['X', 11.0, [2, 3], 'R.1']]\n",
      "[2048.0, 'c', [['^', 2048.0, [0, 3], 'R'], ['X', 2.0, [0, 0], 'R.0'], ['X', 11.0, [2, 3], 'R.1']]]\n",
      "\n",
      "the value in answer_parsed_eval_flat is \n",
      "2.0\n",
      "11.0\n",
      "2048.0\n",
      "\n",
      "combined_list [[2.0, 'c', ['X', 2.0, [0, 0], 'R.0']], [2.0, 't', ['X', 2.0, [0, 0], 'R.0']], [11.0, 'c', ['X', 11.0, [2, 3], 'R.1']], [11.0, 't', ['X', 11.0, [2, 3], 'R.1']], [2048.0, 'c', [['^', 2048.0, [0, 3], 'R'], ['X', 2.0, [0, 0], 'R.0'], ['X', 11.0, [2, 3], 'R.1']]], [2048.0, 't', [['^', 2048.0, [0, 3], 'R'], ['X', 2.0, [0, 0], 'R.0'], ['X', 11.0, [2, 3], 'R.1']]]]\n",
      "\n",
      "Hitsssssss: [([2.0, 'c', ['X', 2.0, [0, 0], 'R.0']], [2.0, 't', ['X', 2.0, [0, 0], 'R.0']]), ([11.0, 'c', ['X', 11.0, [2, 3], 'R.1']], [11.0, 't', ['X', 11.0, [2, 3], 'R.1']]), ([2048.0, 'c', [['^', 2048.0, [0, 3], 'R'], ['X', 2.0, [0, 0], 'R.0'], ['X', 11.0, [2, 3], 'R.1']]], [2048.0, 't', [['^', 2048.0, [0, 3], 'R'], ['X', 2.0, [0, 0], 'R.0'], ['X', 11.0, [2, 3], 'R.1']]])]\n",
      "\n",
      "each element in hints is\n",
      "([2.0, 'c', ['X', 2.0, [0, 0], 'R.0']], [2.0, 't', ['X', 2.0, [0, 0], 'R.0']])\n",
      "\n",
      "([11.0, 'c', ['X', 11.0, [2, 3], 'R.1']], [11.0, 't', ['X', 11.0, [2, 3], 'R.1']])\n",
      "\n",
      "([2048.0, 'c', [['^', 2048.0, [0, 3], 'R'], ['X', 2.0, [0, 0], 'R.0'], ['X', 11.0, [2, 3], 'R.1']]], [2048.0, 't', [['^', 2048.0, [0, 3], 'R'], ['X', 2.0, [0, 0], 'R.0'], ['X', 11.0, [2, 3], 'R.1']]])\n",
      "\n",
      "\n",
      "i, j 0 1\n",
      "Hists[i][0] [2.0, 'c', ['X', 2.0, [0, 0], 'R.0']]\n",
      "span1 [0, 0]\n",
      "Hists[j][0] [11.0, 'c', ['X', 11.0, [2, 3], 'R.1']]\n",
      "span2 [2, 3]\n",
      "i, j 0 2\n",
      "Hists[i][0] [2.0, 'c', ['X', 2.0, [0, 0], 'R.0']]\n",
      "span1 [0, 0]\n",
      "Hists[j][0] [2048.0, 'c', [['^', 2048.0, [0, 3], 'R'], ['X', 2.0, [0, 0], 'R.0'], ['X', 11.0, [2, 3], 'R.1']]]\n",
      "span2 [0, 3]\n",
      "i, j 1 0\n",
      "Hists[i][0] [11.0, 'c', ['X', 11.0, [2, 3], 'R.1']]\n",
      "span1 [2, 3]\n",
      "Hists[j][0] [2.0, 'c', ['X', 2.0, [0, 0], 'R.0']]\n",
      "span2 [0, 0]\n",
      "i, j 1 2\n",
      "Hists[i][0] [11.0, 'c', ['X', 11.0, [2, 3], 'R.1']]\n",
      "span1 [2, 3]\n",
      "Hists[j][0] [2048.0, 'c', [['^', 2048.0, [0, 3], 'R'], ['X', 2.0, [0, 0], 'R.0'], ['X', 11.0, [2, 3], 'R.1']]]\n",
      "span2 [0, 3]\n",
      "i, j 2 0\n",
      "Hists[i][0] [2048.0, 'c', [['^', 2048.0, [0, 3], 'R'], ['X', 2.0, [0, 0], 'R.0'], ['X', 11.0, [2, 3], 'R.1']]]\n",
      "span1 [0, 3]\n",
      "Hists[j][0] [2.0, 'c', ['X', 2.0, [0, 0], 'R.0']]\n",
      "span2 [0, 0]\n",
      "i, j 2 1\n",
      "Hists[i][0] [2048.0, 'c', [['^', 2048.0, [0, 3], 'R'], ['X', 2.0, [0, 0], 'R.0'], ['X', 11.0, [2, 3], 'R.1']]]\n",
      "span1 [0, 3]\n",
      "Hists[j][0] [11.0, 'c', ['X', 11.0, [2, 3], 'R.1']]\n",
      "span2 [2, 3]\n",
      "\n",
      "each element after dominiate Hint\n",
      "([2.0, 'dc', ['X', 2.0, [0, 0], 'R.0']], [2.0, 't', ['X', 2.0, [0, 0], 'R.0']])\n",
      "\n",
      "([11.0, 'dc', ['X', 11.0, [2, 3], 'R.1']], [11.0, 't', ['X', 11.0, [2, 3], 'R.1']])\n",
      "\n",
      "([2048.0, 'c', [['^', 2048.0, [0, 3], 'R'], ['X', 2.0, [0, 0], 'R.0'], ['X', 11.0, [2, 3], 'R.1']]], [2048.0, 't', [['^', 2048.0, [0, 3], 'R'], ['X', 2.0, [0, 0], 'R.0'], ['X', 11.0, [2, 3], 'R.1']]])\n",
      "\n",
      "\n",
      "final_matches: [('R', 2048.0, u'2^11', u'2^11')]\n",
      "--------------------------------------------------\n",
      "attempt= 2^11 answer= 2^11\n",
      "The answer 2^11 is correct\n",
      "Clusters=\n",
      "Nothing recognizable= 1\n",
      "                   R                          2^11         1\n"
     ]
    }
   ],
   "source": [
    "file=open('CSE103_Fall14_Week2_problem13_part1.txt','r')\n",
    "print file.readline(),\n",
    "answer_expression=strip(file.readline())\n",
    "print \"|%s|\"%answer_expression\n",
    "Clusters=Counter()\n",
    "Reps={}\n",
    "\n",
    "k = 0\n",
    "for line in file.readlines():\n",
    "    if k > 1:\n",
    "        break\n",
    "    k = k + 1\n",
    "    #attempt,att_parse_tree,att_eval_tree,answer,answer_parse_tree,answer_eval_tree,variables = params\n",
    "    params=json.loads(line)\n",
    "    print 'params: ', params;\n",
    "    attempt=params[0]\n",
    "    print 'parans[0]: ', attempt\n",
    "    attempt = ''.join(attempt.split())\n",
    "    print 'ATTEMPT (AFTER JOIN): ', attempt\n",
    "    variables=params[6]\n",
    "    print 'variables: ', variables\n",
    "    answer=answer_expression\n",
    "    print 'Answer: ', answer_expression\n",
    "   \n",
    "    \n",
    "    for name,val in variables.items():\n",
    "        print 'name:', name, ' val:', val\n",
    "        if int(val)==val:\n",
    "            val=int(val)\n",
    "        answer=answer.replace(name,str(val))\n",
    "        print 'ANSWER (after replace)', answer\n",
    "    print\n",
    "    \n",
    "    print 'attempt=',attempt,'answer=',answer\n",
    "    print \"find_matches from .json\"\n",
    "    final_pairs=find_matches(answer,attempt)\n",
    "    #print \"find_matches from arguement\"\n",
    "    #final_paris_argument = find_matches('(11!/(6!(11-6)!))/2^11','462/2^10')\n",
    "    #print final_paris_argument\n",
    "    if len(final_pairs)>0:\n",
    "        for node,value,ans_piece,attempt_piece in final_pairs:\n",
    "            if value>10 or value != int(value):\n",
    "                print '-'*50\n",
    "                print 'attempt=',attempt,'answer=',answer\n",
    "                if node=='R':\n",
    "                    sub_type='answer'\n",
    "                else:\n",
    "                    sub_type='sub-expression'\n",
    "                if not node in Reps.keys():\n",
    "                    Reps[node]=ans_piece\n",
    "                Clusters[node]+=1\n",
    "                if attempt_piece != ans_piece:\n",
    "                    print 'The %s %s is correct, it could also be written as %s'%(sub_type,attempt_piece,ans_piece)\n",
    "                else:\n",
    "                    print 'The %s %s is correct'%(sub_type,attempt_piece)\n",
    "            else:\n",
    "                Clusters['Nothing']+=1\n",
    "        \n",
    "print 'Clusters='\n",
    "print 'Nothing recognizable=',Clusters['Nothing']\n",
    "for node in Reps.keys():\n",
    "    print \"%20s%30s%10d\"%(node,Reps[node],Clusters[node])"
   ]
  },
  {
   "cell_type": "code",
   "execution_count": null,
   "metadata": {
    "collapsed": true
   },
   "outputs": [],
   "source": [
    "\n"
   ]
  },
  {
   "cell_type": "code",
   "execution_count": 137,
   "metadata": {
    "collapsed": false
   },
   "outputs": [
    {
     "data": {
      "text/plain": [
       "u'462/2^10'"
      ]
     },
     "execution_count": 137,
     "metadata": {},
     "output_type": "execute_result"
    }
   ],
   "source": [
    "attempt"
   ]
  },
  {
   "cell_type": "code",
   "execution_count": 99,
   "metadata": {
    "collapsed": true
   },
   "outputs": [],
   "source": [
    "a = ['s', 'b', 'c']\n"
   ]
  },
  {
   "cell_type": "code",
   "execution_count": 30,
   "metadata": {
    "collapsed": false
   },
   "outputs": [
    {
     "data": {
      "text/plain": [
       "['s', 'b', 'c']"
      ]
     },
     "execution_count": 30,
     "metadata": {},
     "output_type": "execute_result"
    }
   ],
   "source": [
    "a"
   ]
  },
  {
   "cell_type": "code",
   "execution_count": 55,
   "metadata": {
    "collapsed": false
   },
   "outputs": [
    {
     "data": {
      "text/plain": [
       "'s:b:c'"
      ]
     },
     "execution_count": 55,
     "metadata": {},
     "output_type": "execute_result"
    }
   ],
   "source": [
    "':'.join(a)"
   ]
  },
  {
   "cell_type": "code",
   "execution_count": 64,
   "metadata": {
    "collapsed": true
   },
   "outputs": [],
   "source": [
    "myList = [[1,2], [3,5], ['X',2], [4.0,3]]"
   ]
  },
  {
   "cell_type": "code",
   "execution_count": 65,
   "metadata": {
    "collapsed": false
   },
   "outputs": [],
   "source": [
    "  myList=sorted(myList,key=lambda x: x[0])"
   ]
  },
  {
   "cell_type": "code",
   "execution_count": 66,
   "metadata": {
    "collapsed": false
   },
   "outputs": [
    {
     "data": {
      "text/plain": [
       "[[1, 2], [3, 5], [4.0, 3], ['X', 2]]"
      ]
     },
     "execution_count": 66,
     "metadata": {},
     "output_type": "execute_result"
    }
   ],
   "source": [
    "myList"
   ]
  },
  {
   "cell_type": "code",
   "execution_count": null,
   "metadata": {
    "collapsed": true
   },
   "outputs": [],
   "source": []
  }
 ],
 "metadata": {
  "kernelspec": {
   "display_name": "Python 2",
   "language": "python",
   "name": "python2"
  },
  "language_info": {
   "codemirror_mode": {
    "name": "ipython",
    "version": 2
   },
   "file_extension": ".py",
   "mimetype": "text/x-python",
   "name": "python",
   "nbconvert_exporter": "python",
   "pygments_lexer": "ipython2",
   "version": "2.7.10"
  }
 },
 "nbformat": 4,
 "nbformat_minor": 0
}
