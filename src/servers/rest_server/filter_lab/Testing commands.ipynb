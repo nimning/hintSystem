{
 "cells": [
  {
   "cell_type": "code",
   "execution_count": 49,
   "metadata": {
    "collapsed": false
   },
   "outputs": [],
   "source": [
    "import sys\n",
    "from collections import deque\n",
    "sys.path.append(\"/Users/yoavfreund/projects/Webwork.Improvement.Project/AdaptiveHints/src/parsetrees/expr_parser/\")\n",
    "from Eval_parsed import eval_parsed\n",
    "from webwork_parser import parse_webwork"
   ]
  },
  {
   "cell_type": "code",
   "execution_count": 3,
   "metadata": {
    "collapsed": false
   },
   "outputs": [
    {
     "name": "stdout",
     "output_type": "stream",
     "text": [
      "attempt list\n",
      "[0.00048828125, 't', [['/', 0.00048828125, [2, 9]], ['X', 1.0, [2, 2]], [['^', 2048.0, [4, 9]], ['X', 2.0, [4, 4]], ['X', 11.0, [6, 9]]]]]\n",
      "[0.99951171875, 't', [['-', 0.99951171875, [0, 9]], ['X', 1.0, [0, 0]], [['/', 0.00048828125, [2, 9]], ['X', 1.0, [2, 2]], [['^', 2048.0, [4, 9]], ['X', 2.0, [4, 4]], ['X', 11.0, [6, 9]]]]]]\n",
      "[1.0, 't', ['X', 1.0, [0, 0]]]\n",
      "[1.0, 't', ['X', 1.0, [2, 2]]]\n",
      "[2.0, 't', ['X', 2.0, [4, 4]]]\n",
      "[11.0, 't', ['X', 11.0, [6, 9]]]\n",
      "[2048.0, 't', [['^', 2048.0, [4, 9]], ['X', 2.0, [4, 4]], ['X', 11.0, [6, 9]]]]\n",
      "answer list\n",
      "[0.0009765625, 'c', [['/', 0.0009765625, [4, 9]], ['X', 1.0, [4, 4]], [['^', 1024.0, [6, 9]], ['X', 2.0, [6, 6]], ['X', 10.0, [8, 9]]]]]\n",
      "[0.9990234375, 'c', [['-', 0.9990234375, [0, 9]], ['X', 1.0, [0, 0]], [['/', 0.0009765625, [4, 9]], ['X', 1.0, [4, 4]], [['^', 1024.0, [6, 9]], ['X', 2.0, [6, 6]], ['X', 10.0, [8, 9]]]]]]\n",
      "[1.0, 'c', ['X', 1.0, [0, 0]]]\n",
      "[1.0, 'c', ['X', 1.0, [4, 4]]]\n",
      "[2.0, 'c', ['X', 2.0, [6, 6]]]\n",
      "[10.0, 'c', ['X', 10.0, [8, 9]]]\n",
      "[1024.0, 'c', [['^', 1024.0, [6, 9]], ['X', 2.0, [6, 6]], ['X', 10.0, [8, 9]]]]\n",
      "1 ([1.0, 'c', ['X', 1.0, [4, 4]]], [1.0, 't', ['X', 1.0, [0, 0]]])\n",
      "2 ([2.0, 'c', ['X', 2.0, [6, 6]]], [2.0, 't', ['X', 2.0, [4, 4]]])\n",
      "[('1', '1'), ('2', '2')]\n"
     ]
    }
   ],
   "source": [
    "answer='1 - 1/2^10'\n",
    "attempt='1-1/2^11.0'\n",
    "\n",
    "\n",
    "final_pairs=find_matches(answer,attempt)\n",
    "print final_pairs"
   ]
  },
  {
   "cell_type": "code",
   "execution_count": 1,
   "metadata": {
    "collapsed": false
   },
   "outputs": [],
   "source": [
    "#%%writefile FindMatchingSubexpressions.py\n",
    "import sys\n",
    "from collections import deque\n",
    "sys.path.append(\"/Users/yoavfreund/projects/Webwork.Improvement.Project/AdaptiveHints/src/parsetrees/expr_parser/\")\n",
    "from Eval_parsed import eval_parsed\n",
    "from webwork_parser import parse_webwork\n",
    "\n",
    "def flatten(tree,tag):\n",
    "    #print 'parsing ',tree\n",
    "    List=[]\n",
    "    Queue=deque([tree])\n",
    "    while Queue:\n",
    "        current=Queue.popleft()\n",
    "        if type(current[0])==str:\n",
    "            List.append([current[1],tag,current])\n",
    "        elif type(current[0][0])==str and type(current[0][1])==float and type(current[0][2])==list:\n",
    "            List.append([current[0][1],tag,current])\n",
    "            Queue.extend(current[1:])\n",
    "        else:\n",
    "            print 'parse error:',current\n",
    "            return None\n",
    "    List=sorted(List,key=lambda x: x[0])\n",
    "    return List\n",
    "\n",
    "def find_Hits(List,tol = 1+1e-6):\n",
    "    \"\"\" Given a combined list of subtrees from both attempt and answer,\n",
    "    sorted by value, find the matching pairs of trees\n",
    "    tol is the tolerance used to define which pairs of values match. \n",
    "    Needed because different expressions get different roundoff error\n",
    "    \"\"\"\n",
    "    Hits=[]\n",
    "    item1=List[0]\n",
    "    for item2 in List[1:]:\n",
    "        #print item1[:2],item2[:2],\n",
    "        ratio=item1[0]/item2[0]\n",
    "        if item1[1]!=item2[1] and ratio <tol and ratio>(1/tol):\n",
    "            if item1[1]=='c':\n",
    "                Hits.append((item1,item2))\n",
    "            elif item2[1]=='c':\n",
    "                Hits.append((item2,item1))\n",
    "            else:\n",
    "                print \"Error in find_Hits. Neither item labeled c\"\n",
    "        item1=item2\n",
    "    return Hits\n",
    "\n",
    "def get_span(tree):\n",
    "    if tree[2][0]=='X':\n",
    "        return tree[2][2]\n",
    "    elif type(tree[2][0])==list:\n",
    "        return tree[2][0][2]\n",
    "    else:\n",
    "        print 'Error in get_span'\n",
    "        return None\n",
    "    \n",
    "def find_dominating_hits(Hits,answer,attempt):\n",
    "    for i in range(len(Hits)):\n",
    "        for j in range(len(Hits)):\n",
    "            if i==j:\n",
    "                continue\n",
    "            span1=get_span(Hits[i][0])\n",
    "            span2=get_span(Hits[j][0])\n",
    "            if span1[0]<=span2[0] and span1[1]>=span2[1]:\n",
    "                print span1,'dominates',span2\n",
    "                Hits[j][0][1]='dc'\n",
    "    \n",
    "    final_pairs=[]\n",
    "    for hit in Hits:\n",
    "        if hit[0][1]=='c':\n",
    "            span_c=get_span(hit[0])\n",
    "            span_a=get_span(hit[1])\n",
    "            answer_part=answer[span_c[0]:span_c[1]+1]\n",
    "            attempt_part = attempt[span_a[0]:span_a[1]+1]\n",
    "            final_pairs.append((answer_part,attempt_part))\n",
    "    return final_pairs\n",
    "\n",
    "def find_matches(answer,attempt):\n",
    "\n",
    "    attempt_parsed=parse_webwork(attempt)\n",
    "    attempt_tree=eval_parsed(attempt_parsed)\n",
    "    attempt_list=flatten(attempt_tree,'t')\n",
    "    print 'attempt list'\n",
    "    for item in attempt_list:\n",
    "        print item\n",
    "    \n",
    "    answer_parsed=parse_webwork(answer)\n",
    "    answer_tree=eval_parsed(answer_parsed)\n",
    "    answer_list=flatten(answer_tree,'c')\n",
    "    print 'answer list'\n",
    "    for item in answer_list:\n",
    "        print item\n",
    "\n",
    "    combined_list=sorted(answer_list+attempt_list,key=lambda x: x[0])\n",
    "    #print 'combined list'\n",
    "    #for item in combined_list:\n",
    "    #    print item\n",
    "\n",
    "    Hits=find_Hits(combined_list)\n",
    "    i=0\n",
    "    for item in Hits:\n",
    "        i+=1\n",
    "        print i,item\n",
    "\n",
    "    final_pairs=find_dominating_hits(Hits,answer,attempt)\n",
    "    #for item in final_pairs:\n",
    "    #    print \"The piece %s in your answer is correct, it can also be expressed as %s\"%(item[1],item[0])\n",
    "    \n",
    "    return final_pairs\n",
    "\n",
    "#if __name__==\"__main__\":\n",
    "#    final_pairs=find_matches(sys.argv[1],sys.argv[2])\n",
    "#    for item in final_pairs:\n",
    "#        print \"The piece %s in your answer is correct, it can also be expressed as %s\"%(item[1],item[0])"
   ]
  },
  {
   "cell_type": "code",
   "execution_count": 35,
   "metadata": {
    "collapsed": true
   },
   "outputs": [],
   "source": [
    "from collections import deque\n",
    "\n",
    "def flatten(tree,tag):\n",
    "    #print 'parsing ',tree\n",
    "    List=[]\n",
    "    Queue=deque([tree])\n",
    "    while Queue:\n",
    "        current=Queue.popleft()\n",
    "        if type(current[0])==str:\n",
    "            List.append([current[1],tag,current])\n",
    "        elif type(current[0][0])==str and type(current[0][1])==float and type(current[0][2])==list:\n",
    "            List.append([current[0][1],tag,current])\n",
    "            Queue.extend(current[1:])\n",
    "        else:\n",
    "            print 'parse error:',current\n",
    "            return None\n",
    "    List=sorted(List,key=lambda x: x[0])\n",
    "    return List\n",
    "\n",
    "    answer_list=flatten(answer_tree,'c')\n",
    "    print 'answer list'\n",
    "    for item in answer_list:\n",
    "        print item\n",
    "    attempt_list=flatten(attempt_tree,'t')\n",
    "    print 'attempt list'\n",
    "    for item in attempt_list:\n",
    "        print item\n",
    "\n",
    "    combined_list=sorted(answer_list+attempt_list,key=lambda x: x[0])\n",
    "    print 'combined list'\n",
    "    for item in combined_list:\n",
    "        print item\n"
   ]
  },
  {
   "cell_type": "code",
   "execution_count": 36,
   "metadata": {
    "collapsed": false
   },
   "outputs": [
    {
     "name": "stdout",
     "output_type": "stream",
     "text": [
      "answer list\n",
      "[2.0, 'c', ['X', 2.0, [0, 0]]]\n",
      "[2.0, 'c', ['X', 2.0, [5, 5]]]\n",
      "[5.0, 'c', ['X', 5.0, [7, 7]]]\n",
      "[10.0, 'c', ['X', 10.0, [2, 3]]]\n",
      "[32.0, 'c', [['^', 32.0, [5, 7]], ['X', 2.0, [5, 5]], ['X', 5.0, [7, 7]]]]\n",
      "[992.0, 'c', [['-', 992.0, [0, 7]], [['^', 1024.0, [0, 3]], ['X', 2.0, [0, 0]], ['X', 10.0, [2, 3]]], [['^', 32.0, [5, 7]], ['X', 2.0, [5, 5]], ['X', 5.0, [7, 7]]]]]\n",
      "[1024.0, 'c', [['^', 1024.0, [0, 3]], ['X', 2.0, [0, 0]], ['X', 10.0, [2, 3]]]]\n",
      "attempt list\n",
      "[17.0, 't', ['X', 17.0, [5, 6]]]\n",
      "[1007.0, 't', [['-', 1007.0, [0, 6]], ['X', 1024.0, [0, 3]], ['X', 17.0, [5, 6]]]]\n",
      "[1024.0, 't', ['X', 1024.0, [0, 3]]]\n",
      "combined list\n",
      "[2.0, 'c', ['X', 2.0, [0, 0]]]\n",
      "[2.0, 'c', ['X', 2.0, [5, 5]]]\n",
      "[5.0, 'c', ['X', 5.0, [7, 7]]]\n",
      "[10.0, 'c', ['X', 10.0, [2, 3]]]\n",
      "[17.0, 't', ['X', 17.0, [5, 6]]]\n",
      "[32.0, 'c', [['^', 32.0, [5, 7]], ['X', 2.0, [5, 5]], ['X', 5.0, [7, 7]]]]\n",
      "[992.0, 'c', [['-', 992.0, [0, 7]], [['^', 1024.0, [0, 3]], ['X', 2.0, [0, 0]], ['X', 10.0, [2, 3]]], [['^', 32.0, [5, 7]], ['X', 2.0, [5, 5]], ['X', 5.0, [7, 7]]]]]\n",
      "[1007.0, 't', [['-', 1007.0, [0, 6]], ['X', 1024.0, [0, 3]], ['X', 17.0, [5, 6]]]]\n",
      "[1024.0, 'c', [['^', 1024.0, [0, 3]], ['X', 2.0, [0, 0]], ['X', 10.0, [2, 3]]]]\n",
      "[1024.0, 't', ['X', 1024.0, [0, 3]]]\n"
     ]
    }
   ],
   "source": [
    "answer_list=flatten(answer_tree,'c')\n",
    "print 'answer list'\n",
    "for item in answer_list:\n",
    "    print item\n",
    "attempt_list=flatten(attempt_tree,'t')\n",
    "print 'attempt list'\n",
    "for item in attempt_list:\n",
    "    print item\n",
    "\n",
    "combined_list=sorted(answer_list+attempt_list,key=lambda x: x[0])\n",
    "print 'combined list'\n",
    "for item in combined_list:\n",
    "    print item\n"
   ]
  },
  {
   "cell_type": "code",
   "execution_count": 37,
   "metadata": {
    "collapsed": false
   },
   "outputs": [],
   "source": [
    "def find_Hits(List,tol = 1+1e-6):\n",
    "    \"\"\" Given a combined list of subtrees from both attempt and answer,\n",
    "    sorted by value, find the matching pairs of trees\n",
    "    tol is the tolerance used to define which pairs of values match. \n",
    "    Needed because different expressions get different roundoff error\n",
    "    \"\"\"\n",
    "    Hits=[]\n",
    "    item1=List[0]\n",
    "    for item2 in List[1:]:\n",
    "        #print item1[:2],item2[:2],\n",
    "        ratio=item1[0]/item2[0]\n",
    "        if item1[1]!=item2[1] and ratio <tol and ratio>(1/tol):\n",
    "            if item1[1]=='c':\n",
    "                Hits.append((item1,item2))\n",
    "            elif item2[1]=='c':\n",
    "                Hits.append((item2,item1))\n",
    "            else:\n",
    "                print \"Error in find_Hits. Neither item labeled c\"\n",
    "        item1=item2\n",
    "    return Hits"
   ]
  },
  {
   "cell_type": "code",
   "execution_count": 38,
   "metadata": {
    "collapsed": false
   },
   "outputs": [
    {
     "name": "stdout",
     "output_type": "stream",
     "text": [
      "1 ([1024.0, 'c', [['^', 1024.0, [0, 3]], ['X', 2.0, [0, 0]], ['X', 10.0, [2, 3]]]], [1024.0, 't', ['X', 1024.0, [0, 3]]])\n"
     ]
    }
   ],
   "source": [
    "Hits=find_Hits(combined_list)\n",
    "i=0\n",
    "for item in Hits:\n",
    "    i+=1\n",
    "    print i,item"
   ]
  },
  {
   "cell_type": "code",
   "execution_count": 39,
   "metadata": {
    "collapsed": false
   },
   "outputs": [],
   "source": [
    "def get_span(tree):\n",
    "    if tree[2][0]=='X':\n",
    "        return tree[2][2]\n",
    "    elif type(tree[2][0])==list:\n",
    "        return tree[2][0][2]\n",
    "    else:\n",
    "        print 'Error in get_span'\n",
    "        return None\n",
    "    \n",
    "def find_dominating_hits(Hits,answer,attempt):\n",
    "    for i in range(len(Hits)):\n",
    "        for j in range(len(Hits)):\n",
    "            if i==j:\n",
    "                continue\n",
    "            span1=get_span(Hits[i][0])\n",
    "            span2=get_span(Hits[j][0])\n",
    "            if span1[0]<=span2[0] and span1[1]>=span2[1]:\n",
    "                print span1,'dominates',span2\n",
    "                Hits[j][0][1]='dc'\n",
    "    \n",
    "    final_pairs=[]\n",
    "    for hit in Hits:\n",
    "        if hit[0][1]=='c':\n",
    "            span_c=get_span(hit[0])\n",
    "            span_a=get_span(hit[1])\n",
    "            answer_part=answer[span_c[0]:span_c[1]+1]\n",
    "            attempt_part = attempt[span_a[0]:span_a[1]+1]\n",
    "            final_pairs.append((answer_part,attempt_part))\n",
    "    return final_pairs"
   ]
  },
  {
   "cell_type": "code",
   "execution_count": 40,
   "metadata": {
    "collapsed": false
   },
   "outputs": [
    {
     "name": "stdout",
     "output_type": "stream",
     "text": [
      "The piece 1024 in your answer is correct, it can also be expressed as 2^10\n"
     ]
    }
   ],
   "source": [
    "final_pairs=find_dominating_hits(Hits,answer,attempt)\n",
    "for item in final_pairs:\n",
    "    print \"The piece %s in your answer is correct, it can also be expressed as %s\"%(item[1],item[0])"
   ]
  },
  {
   "cell_type": "code",
   "execution_count": 45,
   "metadata": {
    "collapsed": false
   },
   "outputs": [
    {
     "name": "stdout",
     "output_type": "stream",
     "text": [
      "Writing testargv.py\n"
     ]
    }
   ],
   "source": [
    "%%writefile testargv.py\n",
    "import sys\n",
    "i=0\n",
    "for item in sys.argv:\n",
    "    print i,item\n",
    "    i+=1\n",
    "    "
   ]
  },
  {
   "cell_type": "code",
   "execution_count": null,
   "metadata": {
    "collapsed": true
   },
   "outputs": [],
   "source": []
  },
  {
   "cell_type": "code",
   "execution_count": 50,
   "metadata": {
    "collapsed": false,
    "scrolled": true
   },
   "outputs": [
    {
     "name": "stdout",
     "output_type": "stream",
     "text": [
      "def PrintException():\r\n",
      "def is_number(s):\r\n",
      "def ncr(n, r):\r\n",
      "def find_common_values(e1,e2):\r\n",
      "def eval_parsed(e, variables = None):\r\n",
      "    def get_number(ev):\r\n",
      "def Collect_numbers(etree):\r\n",
      "def collection_recursion(T,etree):\r\n",
      "def numbers_and_exps(etree, string):\r\n",
      "def parse_and_collect_numbers(string):\r\n",
      "def parse_and_eval(string, variables=None):\r\n"
     ]
    }
   ],
   "source": [
    "!grep def /Users/yoavfreund/projects/Webwork.Improvement.Project/AdaptiveHints/src/parsetrees/expr_parser/Eval_parsed.py"
   ]
  }
 ],
 "metadata": {
  "kernelspec": {
   "display_name": "Python 2",
   "language": "python",
   "name": "python2"
  },
  "language_info": {
   "codemirror_mode": {
    "name": "ipython",
    "version": 2
   },
   "file_extension": ".py",
   "mimetype": "text/x-python",
   "name": "python",
   "nbconvert_exporter": "python",
   "pygments_lexer": "ipython2",
   "version": "2.7.9"
  }
 },
 "nbformat": 4,
 "nbformat_minor": 0
}
