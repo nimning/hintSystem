{
 "cells": [
  {
   "cell_type": "code",
   "execution_count": 2,
   "metadata": {
    "collapsed": false
   },
   "outputs": [
    {
     "name": "stdout",
     "output_type": "stream",
     "text": [
      "total 2360\r\n",
      "-rw-r--r--+ 1 maningmn1987  staff   77444 Sep 29 16:44 CSE103_Fall14_Week2_problem13_part1.txt\r\n",
      "-rw-r--r--+ 1 maningmn1987  staff  196948 Sep 29 16:44 CSE103_Fall14_Week2_problem13_part2.txt\r\n",
      "-rw-r--r--+ 1 maningmn1987  staff  246614 Sep 29 16:44 CSE103_Fall14_Week2_problem13_part3.txt\r\n",
      "-rw-r--r--+ 1 maningmn1987  staff  282073 Sep 29 16:44 CSE103_Fall14_Week2_problem13_part4.txt\r\n",
      "-rw-r--r--+ 1 maningmn1987  staff  177009 Sep 29 16:44 CSE103_Fall14_Week2_problem13_part5.txt\r\n",
      "-rw-r--r--+ 1 maningmn1987  staff   33019 Sep 24 08:23 Function pointers and multiprocess communication.ipynb\r\n",
      "-rw-r--r--+ 1 maningmn1987  staff    5761 Sep 24 08:23 Load Libraries.ipynb\r\n",
      "-rw-r--r--+ 1 maningmn1987  staff    2878 Sep 15 16:28 Problem2.3.json\r\n",
      "-rw-r--r--+ 1 maningmn1987  staff   65469 Sep 15 16:28 Problem8Attempts.json\r\n",
      "-rw-r--r--+ 1 maningmn1987  staff   17516 Oct  1 08:05 Process Data.ipynb\r\n",
      "-rw-r--r--+ 1 maningmn1987  staff   23921 Sep 24 08:23 Week3.Prob8.Part1.json\r\n",
      "-rw-r--r--+ 1 maningmn1987  staff   36459 Sep 15 16:28 attempts.txt\r\n",
      "-rw-r--r--+ 1 maningmn1987  staff    1644 Sep 24 08:23 insulating_exec.py\r\n",
      "-rw-r--r--+ 1 maningmn1987  staff     195 Sep 24 08:23 redirect.py\r\n",
      "-rw-r--r--+ 1 maningmn1987  staff     179 Sep 29 17:39 substit.py\r\n",
      "-rw-r--r--+ 1 maningmn1987  staff     619 Sep 24 08:23 timeouterror.py\r\n",
      "-rw-r--r--+ 1 maningmn1987  staff     699 Sep 24 08:23 tmp\r\n"
     ]
    }
   ],
   "source": [
    "!ls -l\n",
    "import json"
   ]
  },
  {
   "cell_type": "code",
   "execution_count": 3,
   "metadata": {
    "collapsed": false
   },
   "outputs": [
    {
     "name": "stdout",
     "output_type": "stream",
     "text": [
      "/Users/maningmn1987/Documents/Study_material/CSE103_TA/Webwork_AdaptiveHints/src/servers/rest_server/filter_helpers\n"
     ]
    }
   ],
   "source": [
    "\n",
    "%cd ../filter_helpers/"
   ]
  },
  {
   "cell_type": "code",
   "execution_count": 4,
   "metadata": {
    "collapsed": false
   },
   "outputs": [
    {
     "name": "stdout",
     "output_type": "stream",
     "text": [
      "Overwriting classify_final_value.py\n"
     ]
    }
   ],
   "source": [
    "%%writefile classify_final_value.py\n",
    "\n",
    "\n",
    "\n",
    "\n",
    "\n",
    "\n",
    "\n",
    "\n",
    "\n",
    "   \n",
    "\n",
    "\n",
    "\n",
    "\n",
    "def classify_final_value(attempt_flat,answer_flat):\n",
    "    \"\"\" Written by Yoav Freund, Sat Sep 19 17:09:48 PDT 2015\n",
    "    classifies the final value as: correct,parse_error,int, not_int\n",
    "    \"\"\"\n",
    "    \n",
    "    att_final_value=attempt_flat[0]['val']\n",
    "    ans_final_value=answer_flat[0]['val']\n",
    "    \n",
    "    if att_final_value==ans_final_value:\n",
    "        return 'correct'\n",
    "    if isinf(att_final_value):\n",
    "        return \"inf\"\n",
    "    if int(att_final_value)!=att_final_value:\n",
    "        return \"not int\"\n",
    "    else:\n",
    "        return \"int\""
   ]
  },
  {
   "cell_type": "code",
   "execution_count": 5,
   "metadata": {
    "collapsed": false
   },
   "outputs": [
    {
     "name": "stdout",
     "output_type": "stream",
     "text": [
      "Overwriting answer_is_not_expression.py\n"
     ]
    }
   ],
   "source": [
    "%%writefile answer_is_not_expression.py        \n",
    "def answer_is_not_expression(answer_string, parse_tree, eval_tree, correct_string, correct_tree, correct_eval, user_vars):\n",
    "    if len(att_eval_tree)==1:\n",
    "        return \"Please enter an expression, not just final numerical result\"\n",
    "    else:\n",
    "        return \"\""
   ]
  },
  {
   "cell_type": "code",
   "execution_count": 6,
   "metadata": {
    "collapsed": false
   },
   "outputs": [],
   "source": [
    "def check_81(attempt,att_parse_tree,att_eval_tree,answer,answer_parse_tree,answer_eval_tree,variables):\n",
    "    \"\"\" name date \n",
    "    description \"\"\"\n",
    "    attempt_class=classify_final_value(att_eval_tree,answer_eval_tree)\n",
    "    if  attempt_class=='correct':\n",
    "        return 'correct answer'\n",
    "    if attempt_class=='int':\n",
    "        return 'Can the answer be an integer number? [_____]{n}'\n",
    "    \n",
    "    hint=answer_is_not_expression(attempt,att_parse_tree,att_eval_tree,answer,answer_parse_tree,answer_eval_tree,variables)\n",
    "    if  len(hint)!=0: \n",
    "        return hint\n",
    "\n",
    "    return None"
   ]
  },
  {
   "cell_type": "code",
   "execution_count": 7,
   "metadata": {
    "collapsed": false
   },
   "outputs": [
    {
     "name": "stdout",
     "output_type": "stream",
     "text": [
      "/Users/maningmn1987/Documents/Study_material/CSE103_TA/Webwork_AdaptiveHints/src/servers/rest_server/filter_helpers\n"
     ]
    }
   ],
   "source": [
    "cd ../filter_helpers/"
   ]
  },
  {
   "cell_type": "code",
   "execution_count": 30,
   "metadata": {
    "collapsed": true
   },
   "outputs": [],
   "source": [
    "att_eval_tree=  [[u'/', 0.451171875, [0, 6]], [462.0], [[u'^', 1024.0, [4, 6]], [2.0], [10.0]]]"
   ]
  },
  {
   "cell_type": "code",
   "execution_count": 24,
   "metadata": {
    "collapsed": false
   },
   "outputs": [
    {
     "name": "stdout",
     "output_type": "stream",
     "text": [
      "Writing flatten.py\n"
     ]
    }
   ],
   "source": [
    "%%writefile flatten.py\n",
    "from numbers import Number\n",
    "def flatten(L):\n",
    "    if type(L)!=list:\n",
    "        #print 'not list'\n",
    "        return None\n",
    "    elif len(L)==1 and isinstance(L[0],Number):\n",
    "        #print 'list of one number'\n",
    "        return [{'val':L[0]}]\n",
    "    elif len(L)==3 and type(L[0])==unicode:\n",
    "        if not isinstance(L[1],Number):\n",
    "            print \"expected number, but got %s, in %s\"%(str(L[1]),str(L))\n",
    "            return None\n",
    "        if type(L[2])==list:\n",
    "            if len(L[2])==2:\n",
    "                if type(L[2][0])==int and type(L[2][1])==int:\n",
    "                    return [{'val':L[1],'location':L[2]}]\n",
    "        print \"expected a tuple of the form (operation,value,[start,end])\"\n",
    "        print \"instead got \"+str(L)\n",
    "        return None\n",
    "    else:\n",
    "        #print 'general list'\n",
    "        answer=[]\n",
    "        for item in L:\n",
    "            fitem=flatten(item)\n",
    "            if fitem==None:\n",
    "                return None\n",
    "            answer = answer+fitem\n",
    "        return answer"
   ]
  },
  {
   "cell_type": "code",
   "execution_count": 9,
   "metadata": {
    "collapsed": false
   },
   "outputs": [
    {
     "name": "stdout",
     "output_type": "stream",
     "text": [
      "Overwriting find_common.py\n"
     ]
    }
   ],
   "source": [
    "%%writefile find_common.py\n",
    "def find_range(item,flat_tree):\n",
    "    for entry in flat_tree:\n",
    "        if item==entry['val']:\n",
    "            return entry['location']\n",
    "    return None\n",
    "    \n",
    "def find_common(attempt,att_flat,answer,ans_flat):\n",
    "    \"Find sub-expressions common to the attempt and the answer\"\n",
    "\n",
    "    att_set=[x['val'] for x in att_flat if x.has_key('val')]\n",
    "    answer_set=[x['val'] for x in ans_flat if x.has_key('val')]\n",
    "\n",
    "    intersection=[x for x in set(att_set) & set(answer_set) if (int(x)!=x) or x>100]\n",
    "    \n",
    "    if len(intersection)==0:\n",
    "        return None\n",
    " \n",
    "    print 'common subexpressions=',str(intersection)\n",
    "    #print 'attempt=%s, att_eval_tree=%s\\n variables=%s,answer=%s,answer_eval_tree=%s'\\\n",
    "    #    %(attempt,str(att_eval_tree),str(variables),answer,str(answer_eval_tree))\n",
    "\n",
    "    for item in intersection:\n",
    "        att_range=find_range(item,att_flat)\n",
    "        ans_range=find_range(item,ans_flat)\n",
    "        print \"attempt subexpression %s is equivalent to answer subexpression %s\"\\\n",
    "        %(attempt[att_range[0]:att_range[1]+2],answer[ans_range[0]:ans_range[1]+2])\n",
    " \n",
    "        "
   ]
  },
  {
   "cell_type": "code",
   "execution_count": 10,
   "metadata": {
    "collapsed": false
   },
   "outputs": [
    {
     "name": "stdout",
     "output_type": "stream",
     "text": [
      "Overwriting substit.py\n"
     ]
    }
   ],
   "source": [
    "%%writefile substit.py\n",
    "from string import replace\n",
    "def substit(string,variables):\n",
    "    for var in variables.keys():\n",
    "        val=str(variables[var])\n",
    "        string=string.replace(var,val)\n",
    "    return string"
   ]
  },
  {
   "cell_type": "code",
   "execution_count": 199,
   "metadata": {
    "collapsed": false,
    "scrolled": false
   },
   "outputs": [
    {
     "name": "stdout",
     "output_type": "stream",
     "text": [
      "answer= 1-1/2^$coins\n",
      "\n",
      "answer before substitution 1-1/2^$coins\n",
      "answer after substitution 1-1/2^11.0\n",
      "[{'location': [0, 8], 'val': 0.9990234375}, {'val': 1.0}, {'location': [4, 8], 'val': 0.0009765625}, {'val': 1.0}, {'location': [6, 8], 'val': 1024.0}, {'val': 2.0}, {'val': 10.0}]\n",
      "[{'location': [0, 6], 'val': 0.99951171875}, {'val': 1.0}, {'location': [2, 6], 'val': 0.00048828125}, {'val': 1.0}, {'location': [4, 6], 'val': 2048.0}, {'val': 2.0}, {'val': 11.0}]\n",
      "attempt=1 - 1/2^10                               answer=1-1/2^11.0                              \n",
      "answer before substitution 1-1/2^$coins\n",
      "answer after substitution 1-1/2^11.0\n",
      "[{'location': [0, 8], 'val': 0.99951171875}, {'val': 1.0}, {'location': [4, 8], 'val': 0.00048828125}, {'val': 1.0}, {'location': [6, 8], 'val': 2048.0}, {'val': 2.0}, {'val': 11.0}]\n",
      "[{'location': [0, 6], 'val': 0.99951171875}, {'val': 1.0}, {'location': [2, 6], 'val': 0.00048828125}, {'val': 1.0}, {'location': [4, 6], 'val': 2048.0}, {'val': 2.0}, {'val': 11.0}]\n",
      "correct\n",
      "answer before substitution 1-1/2^$coins\n",
      "answer after substitution 1-1/2^11.0\n",
      "[{'location': [0, 7], 'val': 0.5}, {'location': [0, 2], 'val': 1024.0}, {'val': 2.0}, {'val': 10.0}, {'location': [5, 7], 'val': 2048.0}, {'val': 2.0}, {'val': 11.0}]\n",
      "[{'location': [0, 6], 'val': 0.99951171875}, {'val': 1.0}, {'location': [2, 6], 'val': 0.00048828125}, {'val': 1.0}, {'location': [4, 6], 'val': 2048.0}, {'val': 2.0}, {'val': 11.0}]\n",
      "attempt=2^10/2^11                                answer=1-1/2^11.0                              \n",
      "common subexpressions= [2048.0]\n",
      "attempt subexpression 2^11 is equivalent to answer subexpression 2^11\n",
      "answer before substitution 1-1/2^$coins\n",
      "answer after substitution 1-1/2^11.0\n",
      "[{'location': [0, 9], 'val': 2047.99951171875}, {'location': [0, 2], 'val': 2048.0}, {'val': 2.0}, {'val': 11.0}, {'location': [5, 9], 'val': 0.00048828125}, {'val': 1.0}, {'location': [7, 9], 'val': 2048.0}, {'val': 2.0}, {'val': 11.0}]\n",
      "[{'location': [0, 6], 'val': 0.99951171875}, {'val': 1.0}, {'location': [2, 6], 'val': 0.00048828125}, {'val': 1.0}, {'location': [4, 6], 'val': 2048.0}, {'val': 2.0}, {'val': 11.0}]\n",
      "attempt=2^11-1/2^11                              answer=1-1/2^11.0                              \n",
      "common subexpressions= [0.00048828125, 2048.0]\n",
      "attempt subexpression 1/2^11 is equivalent to answer subexpression 1/2^11\n",
      "attempt subexpression 2^11 is equivalent to answer subexpression 2^11\n",
      "answer before substitution 1-1/2^$coins\n",
      "answer after substitution 1-1/2^11.0\n",
      "[{'location': [0, 11], 'val': 0.99951171875}, {'location': [1, 6], 'val': 2047.0}, {'location': [1, 3], 'val': 2048.0}, {'val': 2.0}, {'val': 11.0}, {'val': 1.0}, {'location': [9, 11], 'val': 2048.0}, {'val': 2.0}, {'val': 11.0}]\n",
      "[{'location': [0, 6], 'val': 0.99951171875}, {'val': 1.0}, {'location': [2, 6], 'val': 0.00048828125}, {'val': 1.0}, {'location': [4, 6], 'val': 2048.0}, {'val': 2.0}, {'val': 11.0}]\n",
      "correct\n",
      "answer before substitution 1-1/2^$coins\n",
      "answer after substitution 1-1/2^9.0\n",
      "[{'location': [0, 2], 'val': 0.024691358024691357}, {'val': 2.0}, {'val': 81.0}]\n",
      "[{'location': [0, 6], 'val': 0.998046875}, {'val': 1.0}, {'location': [2, 6], 'val': 0.001953125}, {'val': 1.0}, {'location': [4, 6], 'val': 512.0}, {'val': 2.0}, {'val': 9.0}]\n",
      "attempt=2/81                                     answer=1-1/2^9.0                               \n",
      "answer before substitution 1-1/2^$coins\n",
      "answer after substitution 1-1/2^9.0\n",
      "[{'location': [0, 3], 'val': 0.01953125}, {'val': 10.0}, {'val': 512.0}]\n",
      "[{'location': [0, 6], 'val': 0.998046875}, {'val': 1.0}, {'location': [2, 6], 'val': 0.001953125}, {'val': 1.0}, {'location': [4, 6], 'val': 512.0}, {'val': 2.0}, {'val': 9.0}]\n",
      "attempt=10/512                                   answer=1-1/2^9.0                               \n",
      "common subexpressions= [512.0]\n"
     ]
    },
    {
     "ename": "KeyError",
     "evalue": "'location'",
     "output_type": "error",
     "traceback": [
      "\u001b[0;31m---------------------------------------------------------------------------\u001b[0m",
      "\u001b[0;31mKeyError\u001b[0m                                  Traceback (most recent call last)",
      "\u001b[0;32m<ipython-input-199-7ec3a3d07080>\u001b[0m in \u001b[0;36m<module>\u001b[0;34m()\u001b[0m\n\u001b[1;32m     28\u001b[0m \u001b[0;34m\u001b[0m\u001b[0m\n\u001b[1;32m     29\u001b[0m     \u001b[0;32mprint\u001b[0m \u001b[0;34m\"attempt={:<40} answer={:<40}\"\u001b[0m\u001b[0;34m.\u001b[0m\u001b[0mformat\u001b[0m\u001b[0;34m(\u001b[0m\u001b[0mattempt\u001b[0m\u001b[0;34m,\u001b[0m\u001b[0manswer\u001b[0m\u001b[0;34m)\u001b[0m\u001b[0;34m\u001b[0m\u001b[0m\n\u001b[0;32m---> 30\u001b[0;31m     \u001b[0mhint\u001b[0m\u001b[0;34m=\u001b[0m \u001b[0mfind_common\u001b[0m\u001b[0;34m(\u001b[0m\u001b[0mattempt\u001b[0m\u001b[0;34m,\u001b[0m\u001b[0mattempt_flat\u001b[0m\u001b[0;34m,\u001b[0m\u001b[0manswer\u001b[0m\u001b[0;34m,\u001b[0m\u001b[0manswer_flat\u001b[0m\u001b[0;34m)\u001b[0m\u001b[0;34m\u001b[0m\u001b[0m\n\u001b[0m\u001b[1;32m     31\u001b[0m \u001b[0;34m\u001b[0m\u001b[0m\n",
      "\u001b[0;32m<ipython-input-169-6748b8e0284a>\u001b[0m in \u001b[0;36mfind_common\u001b[0;34m(attempt, att_flat, answer, ans_flat)\u001b[0m\n\u001b[1;32m     21\u001b[0m \u001b[0;34m\u001b[0m\u001b[0m\n\u001b[1;32m     22\u001b[0m     \u001b[0;32mfor\u001b[0m \u001b[0mitem\u001b[0m \u001b[0;32min\u001b[0m \u001b[0mintersection\u001b[0m\u001b[0;34m:\u001b[0m\u001b[0;34m\u001b[0m\u001b[0m\n\u001b[0;32m---> 23\u001b[0;31m         \u001b[0matt_range\u001b[0m\u001b[0;34m=\u001b[0m\u001b[0mfind_range\u001b[0m\u001b[0;34m(\u001b[0m\u001b[0mitem\u001b[0m\u001b[0;34m,\u001b[0m\u001b[0matt_flat\u001b[0m\u001b[0;34m)\u001b[0m\u001b[0;34m\u001b[0m\u001b[0m\n\u001b[0m\u001b[1;32m     24\u001b[0m         \u001b[0mans_range\u001b[0m\u001b[0;34m=\u001b[0m\u001b[0mfind_range\u001b[0m\u001b[0;34m(\u001b[0m\u001b[0mitem\u001b[0m\u001b[0;34m,\u001b[0m\u001b[0mans_flat\u001b[0m\u001b[0;34m)\u001b[0m\u001b[0;34m\u001b[0m\u001b[0m\n\u001b[1;32m     25\u001b[0m         \u001b[0;32mprint\u001b[0m \u001b[0;34m\"attempt subexpression %s is equivalent to answer subexpression %s\"\u001b[0m        \u001b[0;34m%\u001b[0m\u001b[0;34m(\u001b[0m\u001b[0mattempt\u001b[0m\u001b[0;34m[\u001b[0m\u001b[0matt_range\u001b[0m\u001b[0;34m[\u001b[0m\u001b[0;36m0\u001b[0m\u001b[0;34m]\u001b[0m\u001b[0;34m:\u001b[0m\u001b[0matt_range\u001b[0m\u001b[0;34m[\u001b[0m\u001b[0;36m1\u001b[0m\u001b[0;34m]\u001b[0m\u001b[0;34m+\u001b[0m\u001b[0;36m2\u001b[0m\u001b[0;34m]\u001b[0m\u001b[0;34m,\u001b[0m\u001b[0manswer\u001b[0m\u001b[0;34m[\u001b[0m\u001b[0mans_range\u001b[0m\u001b[0;34m[\u001b[0m\u001b[0;36m0\u001b[0m\u001b[0;34m]\u001b[0m\u001b[0;34m:\u001b[0m\u001b[0mans_range\u001b[0m\u001b[0;34m[\u001b[0m\u001b[0;36m1\u001b[0m\u001b[0;34m]\u001b[0m\u001b[0;34m+\u001b[0m\u001b[0;36m2\u001b[0m\u001b[0;34m]\u001b[0m\u001b[0;34m)\u001b[0m\u001b[0;34m\u001b[0m\u001b[0m\n",
      "\u001b[0;32m<ipython-input-169-6748b8e0284a>\u001b[0m in \u001b[0;36mfind_range\u001b[0;34m(item, flat_tree)\u001b[0m\n\u001b[1;32m      2\u001b[0m     \u001b[0;32mfor\u001b[0m \u001b[0mentry\u001b[0m \u001b[0;32min\u001b[0m \u001b[0mflat_tree\u001b[0m\u001b[0;34m:\u001b[0m\u001b[0;34m\u001b[0m\u001b[0m\n\u001b[1;32m      3\u001b[0m         \u001b[0;32mif\u001b[0m \u001b[0mitem\u001b[0m\u001b[0;34m==\u001b[0m\u001b[0mentry\u001b[0m\u001b[0;34m[\u001b[0m\u001b[0;34m'val'\u001b[0m\u001b[0;34m]\u001b[0m\u001b[0;34m:\u001b[0m\u001b[0;34m\u001b[0m\u001b[0m\n\u001b[0;32m----> 4\u001b[0;31m             \u001b[0;32mreturn\u001b[0m \u001b[0mentry\u001b[0m\u001b[0;34m[\u001b[0m\u001b[0;34m'location'\u001b[0m\u001b[0;34m]\u001b[0m\u001b[0;34m\u001b[0m\u001b[0m\n\u001b[0m\u001b[1;32m      5\u001b[0m     \u001b[0;32mreturn\u001b[0m \u001b[0mNone\u001b[0m\u001b[0;34m\u001b[0m\u001b[0m\n\u001b[1;32m      6\u001b[0m \u001b[0;34m\u001b[0m\u001b[0m\n",
      "\u001b[0;31mKeyError\u001b[0m: 'location'"
     ]
    }
   ],
   "source": [
    "#%%writefile main.py\n",
    "file=open('CSE103_Fall14_Week2_problem13_part4.txt','r');\n",
    "ID=file.readline()\n",
    "answer=file.readline()\n",
    "print 'answer=',answer\n",
    "count =0\n",
    "from substit import substit\n",
    "from flatten import flatten\n",
    "for line in file.readlines():\n",
    "    count+=1\n",
    "    if count>1: break\n",
    "    params=json.loads(line);\n",
    "    print params\n",
    "    attempt,att_parse_tree,att_eval_tree,answer,answer_parse_tree,answer_eval_tree,variables = params\n",
    "    print 'answer before substitution',answer\n",
    "    answer=substit(answer,variables)\n",
    "    print 'answer after substitution',answer\n",
    "    attempt_flat=flatten(att_eval_tree)\n",
    "    answer_flat =flatten(answer_eval_tree)\n",
    "    print attempt_flat\n",
    "    print answer_flat\n",
    "    if attempt_flat==None or answer_flat==None:\n",
    "        print 'Eval tree== None or parsing error ------------------------------'\n",
    "        print str(params)\n",
    "        break\n",
    "\n",
    "    Class=classify_final_value(attempt_flat,answer_flat)\n",
    "    if Class=='correct' or Class=='int':\n",
    "        print Class\n",
    "        continue\n",
    "\n",
    "    print \"attempt={:<40} answer={:<40}\".format(attempt,answer)\n",
    "    hint= find_common(attempt,attempt_flat,answer,answer_flat)\n",
    "    "
   ]
  },
  {
   "cell_type": "code",
   "execution_count": 21,
   "metadata": {
    "collapsed": false
   },
   "outputs": [
    {
     "data": {
      "text/plain": [
       "'this   that                                               and the other            \\n'"
      ]
     },
     "execution_count": 21,
     "metadata": {},
     "output_type": "execute_result"
    }
   ],
   "source": [
    "\"{:<7}{:<51}{:<25}\\n\".format('this', 'that', 'and the other')"
   ]
  },
  {
   "cell_type": "code",
   "execution_count": 193,
   "metadata": {
    "collapsed": false
   },
   "outputs": [
    {
     "name": "stdout",
     "output_type": "stream",
     "text": [
      "/Users/yoavfreund/projects/Webwork.Improvement.Project/AdaptiveHints/src/servers/rest_server/filter_lab\n"
     ]
    }
   ],
   "source": [
    "%cd filter_lab"
   ]
  },
  {
   "cell_type": "code",
   "execution_count": 9,
   "metadata": {
    "collapsed": false
   },
   "outputs": [
    {
     "ename": "SyntaxError",
     "evalue": "invalid syntax (<ipython-input-9-56d3901bedac>, line 1)",
     "output_type": "error",
     "traceback": [
      "\u001b[0;36m  File \u001b[0;32m\"<ipython-input-9-56d3901bedac>\"\u001b[0;36m, line \u001b[0;32m1\u001b[0m\n\u001b[0;31m    defined X\u001b[0m\n\u001b[0m            ^\u001b[0m\n\u001b[0;31mSyntaxError\u001b[0m\u001b[0;31m:\u001b[0m invalid syntax\n"
     ]
    }
   ],
   "source": [
    "defined X"
   ]
  },
  {
   "cell_type": "code",
   "execution_count": 43,
   "metadata": {
    "collapsed": false
   },
   "outputs": [
    {
     "data": {
      "text/plain": [
       "True"
      ]
     },
     "execution_count": 43,
     "metadata": {},
     "output_type": "execute_result"
    }
   ],
   "source": [
    "from numpy import isinf,isn\n",
    "isinf(float('inf'))"
   ]
  },
  {
   "cell_type": "code",
   "execution_count": 83,
   "metadata": {
    "collapsed": false
   },
   "outputs": [],
   "source": [
    "import numbers"
   ]
  },
  {
   "cell_type": "code",
   "execution_count": 88,
   "metadata": {
    "collapsed": false
   },
   "outputs": [
    {
     "data": {
      "text/plain": [
       "False"
      ]
     },
     "execution_count": 88,
     "metadata": {},
     "output_type": "execute_result"
    }
   ],
   "source": [
    "isinstance('10',numbers.Number)"
   ]
  },
  {
   "cell_type": "code",
   "execution_count": 92,
   "metadata": {
    "collapsed": false
   },
   "outputs": [
    {
     "data": {
      "text/plain": [
       "False"
      ]
     },
     "execution_count": 92,
     "metadata": {},
     "output_type": "execute_result"
    }
   ],
   "source": [
    "'abs'=='abd'"
   ]
  },
  {
   "cell_type": "code",
   "execution_count": 106,
   "metadata": {
    "collapsed": false
   },
   "outputs": [
    {
     "data": {
      "text/plain": [
       "u''"
      ]
     },
     "execution_count": 106,
     "metadata": {},
     "output_type": "execute_result"
    }
   ],
   "source": [
    "answer"
   ]
  },
  {
   "cell_type": "code",
   "execution_count": 107,
   "metadata": {
    "collapsed": false
   },
   "outputs": [
    {
     "data": {
      "text/plain": [
       "True"
      ]
     },
     "execution_count": 107,
     "metadata": {},
     "output_type": "execute_result"
    }
   ],
   "source": [
    "X=None\n",
    "X==None"
   ]
  },
  {
   "cell_type": "code",
   "execution_count": null,
   "metadata": {
    "collapsed": true
   },
   "outputs": [],
   "source": []
  }
 ],
 "metadata": {
  "kernelspec": {
   "display_name": "Python 2",
   "language": "python",
   "name": "python2"
  },
  "language_info": {
   "codemirror_mode": {
    "name": "ipython",
    "version": 2
   },
   "file_extension": ".py",
   "mimetype": "text/x-python",
   "name": "python",
   "nbconvert_exporter": "python",
   "pygments_lexer": "ipython2",
   "version": "2.7.10"
  }
 },
 "nbformat": 4,
 "nbformat_minor": 0
}
