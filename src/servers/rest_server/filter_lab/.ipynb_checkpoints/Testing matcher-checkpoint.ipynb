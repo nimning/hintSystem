{
 "cells": [
  {
   "cell_type": "code",
   "execution_count": 1,
   "metadata": {
    "collapsed": false
   },
   "outputs": [
    {
     "name": "stdout",
     "output_type": "stream",
     "text": [
      "FindMatchingSubexpressions.py redirect.py                   timeouterror.py\r\n",
      "insulating_exec.py            testargv.py\r\n"
     ]
    }
   ],
   "source": [
    "!ls *.py"
   ]
  },
  {
   "cell_type": "code",
   "execution_count": 1,
   "metadata": {
    "collapsed": false
   },
   "outputs": [
    {
     "name": "stdout",
     "output_type": "stream",
     "text": [
      "Week2 Problem13 Part4\n",
      "|1-1/2^$coins|\n",
      "<type 'str'>\n",
      "parsed attempt= eval_parsed, e=\" <built-in method decode of str object at 0x108afe810> \"\n",
      "Eval_parsed Exception: object of type 'builtin_function_or_method' has no len()\n",
      "Traceback (most recent call last):\n",
      "  File \"/Users/yoavfreund/projects/Webwork.Improvement.Project/AdaptiveHints/src/parsetrees/expr_parser/Eval_parsed.py\", line 77, in eval_parsed\n",
      "    elif len(e)==2:\n",
      "TypeError: object of type 'builtin_function_or_method' has no len()\n",
      "None\n",
      "parsed answer= [['-', [0, 9]], [['X', [0, 0]], 1], [['/', [2, 9]], [['X', [2, 2]], 1], [['^', [4, 9]], [['X', [4, 4]], 2], [['X', [6, 9]], 11.0]]]]\n",
      "attempt=|1 - 1/2^10|, answer=|1-1/2^11.0|\n",
      "eval_parsed running parse_webwork\n",
      "parse_webwork succeeded : [['-', [0, 9]], [['X', [0, 0]], 1], [['/', [4, 9]], [['X', [4, 4]], 1], [['^', [6, 9]], [['X', [6, 6]], 2], [['X', [8, 9]], 10]]]]\n",
      "eval_parsed, e=\" [['-', [0, 9]], [['X', [0, 0]], 1], [['/', [4, 9]], [['X', [4, 4]], 1], [['^', [6, 9]], [['X', [6, 6]], 2], [['X', [8, 9]], 10]]]] \"\n",
      "eval_parsed, e=\" [['X', [0, 0]], 1] \"\n",
      "eval_parsed, e=\" 1 \"\n",
      "eval_parsed, e=\" [['/', [4, 9]], [['X', [4, 4]], 1], [['^', [6, 9]], [['X', [6, 6]], 2], [['X', [8, 9]], 10]]] \"\n",
      "eval_parsed, e=\" [['X', [4, 4]], 1] \"\n",
      "eval_parsed, e=\" 1 \"\n",
      "eval_parsed, e=\" [['^', [6, 9]], [['X', [6, 6]], 2], [['X', [8, 9]], 10]] \"\n",
      "eval_parsed, e=\" [['X', [6, 6]], 2] \"\n",
      "eval_parsed, e=\" 2 \"\n",
      "eval_parsed, e=\" [['X', [8, 9]], 10] \"\n",
      "eval_parsed, e=\" 10 \"\n",
      "eval_parsed, e=\" 1-1/2^11.0 \"\n",
      "Eval_parsed Exception: Unrecognized expression form: 1-1/2^11.0\n",
      "Traceback (most recent call last):\n",
      "  File \"/Users/yoavfreund/projects/Webwork.Improvement.Project/AdaptiveHints/src/parsetrees/expr_parser/Eval_parsed.py\", line 119, in eval_parsed\n",
      "    raise Exception('Unrecognized expression form: %s'%e)\n",
      "Exception: Unrecognized expression form: 1-1/2^11.0\n"
     ]
    },
    {
     "ename": "TypeError",
     "evalue": "'NoneType' object has no attribute '__getitem__'",
     "output_type": "error",
     "traceback": [
      "\u001b[0;31m---------------------------------------------------------------------------\u001b[0m",
      "\u001b[0;31mTypeError\u001b[0m                                 Traceback (most recent call last)",
      "\u001b[0;32m<ipython-input-1-252f42bc1bc9>\u001b[0m in \u001b[0;36m<module>\u001b[0;34m()\u001b[0m\n\u001b[1;32m     22\u001b[0m     \u001b[0;32mprint\u001b[0m \u001b[0;34m'parsed answer='\u001b[0m\u001b[0;34m,\u001b[0m\u001b[0mparse_webwork\u001b[0m\u001b[0;34m(\u001b[0m\u001b[0manswer\u001b[0m\u001b[0;34m)\u001b[0m\u001b[0;34m\u001b[0m\u001b[0m\n\u001b[1;32m     23\u001b[0m     \u001b[0;32mprint\u001b[0m \u001b[0;34m'attempt=|%s|, answer=|%s|'\u001b[0m\u001b[0;34m%\u001b[0m\u001b[0;34m(\u001b[0m\u001b[0mattempt\u001b[0m\u001b[0;34m,\u001b[0m\u001b[0manswer\u001b[0m\u001b[0;34m)\u001b[0m\u001b[0;34m\u001b[0m\u001b[0m\n\u001b[0;32m---> 24\u001b[0;31m     \u001b[0mfinal_pairs\u001b[0m\u001b[0;34m=\u001b[0m\u001b[0mfind_matches\u001b[0m\u001b[0;34m(\u001b[0m\u001b[0manswer\u001b[0m\u001b[0;34m,\u001b[0m\u001b[0mattempt\u001b[0m\u001b[0;34m)\u001b[0m\u001b[0;34m\u001b[0m\u001b[0m\n\u001b[0m\u001b[1;32m     25\u001b[0m     \u001b[0;32mif\u001b[0m \u001b[0mlen\u001b[0m\u001b[0;34m(\u001b[0m\u001b[0mfinal_pairs\u001b[0m\u001b[0;34m)\u001b[0m\u001b[0;34m>\u001b[0m\u001b[0;36m0\u001b[0m\u001b[0;34m:\u001b[0m\u001b[0;34m\u001b[0m\u001b[0m\n\u001b[1;32m     26\u001b[0m         \u001b[0;32mprint\u001b[0m \u001b[0;34m'-'\u001b[0m\u001b[0;34m*\u001b[0m\u001b[0;36m50\u001b[0m\u001b[0;34m\u001b[0m\u001b[0m\n",
      "\u001b[0;32m/Users/yoavfreund/projects/Webwork.Improvement.Project/AdaptiveHints/src/servers/rest_server/filter_lab/FindMatchingSubexpressions.pyc\u001b[0m in \u001b[0;36mfind_matches\u001b[0;34m(answer, attempt)\u001b[0m\n\u001b[1;32m     80\u001b[0m     \u001b[0;31m#print answer_tree\u001b[0m\u001b[0;34m\u001b[0m\u001b[0;34m\u001b[0m\u001b[0m\n\u001b[1;32m     81\u001b[0m \u001b[0;34m\u001b[0m\u001b[0m\n\u001b[0;32m---> 82\u001b[0;31m     \u001b[0manswer_list\u001b[0m\u001b[0;34m=\u001b[0m\u001b[0mflatten\u001b[0m\u001b[0;34m(\u001b[0m\u001b[0manswer_tree\u001b[0m\u001b[0;34m,\u001b[0m\u001b[0;34m'c'\u001b[0m\u001b[0;34m)\u001b[0m\u001b[0;34m\u001b[0m\u001b[0m\n\u001b[0m\u001b[1;32m     83\u001b[0m     \u001b[0;31m#print 'answer list'\u001b[0m\u001b[0;34m\u001b[0m\u001b[0;34m\u001b[0m\u001b[0m\n\u001b[1;32m     84\u001b[0m     \u001b[0;31m#for item in answer_list:\u001b[0m\u001b[0;34m\u001b[0m\u001b[0;34m\u001b[0m\u001b[0m\n",
      "\u001b[0;32m/Users/yoavfreund/projects/Webwork.Improvement.Project/AdaptiveHints/src/servers/rest_server/filter_lab/FindMatchingSubexpressions.pyc\u001b[0m in \u001b[0;36mflatten\u001b[0;34m(tree, tag)\u001b[0m\n\u001b[1;32m     11\u001b[0m     \u001b[0;32mwhile\u001b[0m \u001b[0mQueue\u001b[0m\u001b[0;34m:\u001b[0m\u001b[0;34m\u001b[0m\u001b[0m\n\u001b[1;32m     12\u001b[0m         \u001b[0mcurrent\u001b[0m\u001b[0;34m=\u001b[0m\u001b[0mQueue\u001b[0m\u001b[0;34m.\u001b[0m\u001b[0mpopleft\u001b[0m\u001b[0;34m(\u001b[0m\u001b[0;34m)\u001b[0m\u001b[0;34m\u001b[0m\u001b[0m\n\u001b[0;32m---> 13\u001b[0;31m         \u001b[0;32mif\u001b[0m \u001b[0mtype\u001b[0m\u001b[0;34m(\u001b[0m\u001b[0mcurrent\u001b[0m\u001b[0;34m[\u001b[0m\u001b[0;36m0\u001b[0m\u001b[0;34m]\u001b[0m\u001b[0;34m)\u001b[0m\u001b[0;34m==\u001b[0m\u001b[0mstr\u001b[0m\u001b[0;34m:\u001b[0m\u001b[0;34m\u001b[0m\u001b[0m\n\u001b[0m\u001b[1;32m     14\u001b[0m             \u001b[0mList\u001b[0m\u001b[0;34m.\u001b[0m\u001b[0mappend\u001b[0m\u001b[0;34m(\u001b[0m\u001b[0;34m[\u001b[0m\u001b[0mcurrent\u001b[0m\u001b[0;34m[\u001b[0m\u001b[0;36m1\u001b[0m\u001b[0;34m]\u001b[0m\u001b[0;34m,\u001b[0m\u001b[0mtag\u001b[0m\u001b[0;34m,\u001b[0m\u001b[0mcurrent\u001b[0m\u001b[0;34m]\u001b[0m\u001b[0;34m)\u001b[0m\u001b[0;34m\u001b[0m\u001b[0m\n\u001b[1;32m     15\u001b[0m         \u001b[0;32melif\u001b[0m \u001b[0mtype\u001b[0m\u001b[0;34m(\u001b[0m\u001b[0mcurrent\u001b[0m\u001b[0;34m[\u001b[0m\u001b[0;36m0\u001b[0m\u001b[0;34m]\u001b[0m\u001b[0;34m[\u001b[0m\u001b[0;36m0\u001b[0m\u001b[0;34m]\u001b[0m\u001b[0;34m)\u001b[0m\u001b[0;34m==\u001b[0m\u001b[0mstr\u001b[0m \u001b[0;32mand\u001b[0m \u001b[0mtype\u001b[0m\u001b[0;34m(\u001b[0m\u001b[0mcurrent\u001b[0m\u001b[0;34m[\u001b[0m\u001b[0;36m0\u001b[0m\u001b[0;34m]\u001b[0m\u001b[0;34m[\u001b[0m\u001b[0;36m1\u001b[0m\u001b[0;34m]\u001b[0m\u001b[0;34m)\u001b[0m\u001b[0;34m==\u001b[0m\u001b[0mfloat\u001b[0m \u001b[0;32mand\u001b[0m \u001b[0mtype\u001b[0m\u001b[0;34m(\u001b[0m\u001b[0mcurrent\u001b[0m\u001b[0;34m[\u001b[0m\u001b[0;36m0\u001b[0m\u001b[0;34m]\u001b[0m\u001b[0;34m[\u001b[0m\u001b[0;36m2\u001b[0m\u001b[0;34m]\u001b[0m\u001b[0;34m)\u001b[0m\u001b[0;34m==\u001b[0m\u001b[0mlist\u001b[0m\u001b[0;34m:\u001b[0m\u001b[0;34m\u001b[0m\u001b[0m\n",
      "\u001b[0;31mTypeError\u001b[0m: 'NoneType' object has no attribute '__getitem__'"
     ]
    }
   ],
   "source": [
    "from string import strip, replace\n",
    "import sys\n",
    "sys.path.append(\"/Users/yoavfreund/projects/Webwork.Improvement.Project/AdaptiveHints/src/parsetrees/expr_parser/\")\n",
    "from Eval_parsed import eval_parsed\n",
    "from webwork_parser import parse_webwork\n",
    "from FindMatchingSubexpressions import find_matches\n",
    "import json\n",
    "\n",
    "file=open('CSE103_Fall14_Week2_problem13_part4.txt','r')\n",
    "print file.readline(),\n",
    "answer_expression=strip(file.readline())\n",
    "print \"|%s|\"%answer_expression\n",
    "for line in file.readlines():\n",
    "    params=json.loads(line)\n",
    "    attempt=params[0]\n",
    "#    attempt_tree=parse_webwork(attempt);\n",
    "    \n",
    "#    print 'parsed attempt=',eval_parsed(attempt)\n",
    "\n",
    "    variables=params[6]\n",
    "    answer=answer_expression\n",
    "    for name,val in variables.items():\n",
    "        answer=answer.replace(name,str(val))\n",
    "    print 'attempt=|%s|, answer=|%s|'%(attempt,answer)\n",
    "    \n",
    "    final_pairs=find_matches(answer,attempt)\n",
    "    if len(final_pairs)>0:\n",
    "        print '-'*50\n",
    "        print 'answer=',answer,'attempt=',attempt\n",
    "        for ans_piece,attempt_piece in final_pairs:\n",
    "            print 'attempt piece=',attempt_piece,'answer_piece=',answer_piece\n",
    "\n",
    "    \n"
   ]
  },
  {
   "cell_type": "code",
   "execution_count": 7,
   "metadata": {
    "collapsed": true
   },
   "outputs": [],
   "source": [
    "import string\n",
    "string.str"
   ]
  },
  {
   "cell_type": "code",
   "execution_count": 10,
   "metadata": {
    "collapsed": false
   },
   "outputs": [
    {
     "data": {
      "text/plain": [
       "str"
      ]
     },
     "execution_count": 10,
     "metadata": {},
     "output_type": "execute_result"
    }
   ],
   "source": [
    "type(u'kjsds'.encode('ascii'))"
   ]
  },
  {
   "cell_type": "code",
   "execution_count": null,
   "metadata": {
    "collapsed": true
   },
   "outputs": [],
   "source": []
  }
 ],
 "metadata": {
  "kernelspec": {
   "display_name": "Python 2",
   "language": "python",
   "name": "python2"
  },
  "language_info": {
   "codemirror_mode": {
    "name": "ipython",
    "version": 2
   },
   "file_extension": ".py",
   "mimetype": "text/x-python",
   "name": "python",
   "nbconvert_exporter": "python",
   "pygments_lexer": "ipython2",
   "version": "2.7.9"
  }
 },
 "nbformat": 4,
 "nbformat_minor": 0
}
